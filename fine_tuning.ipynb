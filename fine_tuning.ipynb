{
 "cells": [
  {
   "cell_type": "code",
   "execution_count": 1,
   "id": "c30125f2-2da3-44b0-8b7d-c371d012a084",
   "metadata": {},
   "outputs": [],
   "source": [
    "from model import FeatureExtractor, MLP\n",
    "import numpy as np\n",
    "from data_manager import setup_training_loader, create_sparse_structure_from_images\n",
    "from model import create_feature_pairs, modified_sigmoid, create_coo_sparse_matrix\n",
    "import torch.optim as optim\n",
    "import torch\n",
    "from tqdm import tqdm\n",
    "from scipy.sparse import diags\n",
    "from scipy.sparse.linalg import eigsh\n",
    "from torch.optim.lr_scheduler import StepLR\n",
    "from sklearn.metrics import f1_score, confusion_matrix\n",
    "from utils import correct_pred_sign\n",
    "import logging\n",
    "import os\n",
    "from datetime import datetime\n",
    "import random"
   ]
  },
  {
   "cell_type": "code",
   "execution_count": 2,
   "id": "fc618a95-fe8e-4db2-a8de-05bebb5b9208",
   "metadata": {},
   "outputs": [
    {
     "name": "stdout",
     "output_type": "stream",
     "text": [
      "Filtered 1074 patches to 511 good patches (47.58%)\n",
      "Dataset loaded with 511 patches\n",
      "Total pixels: 25639936\n",
      "Positive pixels (+1): 8439620\n",
      "Negative pixels (-1): 17200316\n"
     ]
    }
   ],
   "source": [
    "TARGET_CROP = 1  # The crop ID we're training to detect\n",
    "UNCHANGED_CROPS = [1, 5, 23, 176]  # List of unchanged crops\n",
    "\n",
    "train_loader = setup_training_loader(\n",
    "    path_to_train_data='./training_data/train_patches.npy',\n",
    "    unchanged_crops=UNCHANGED_CROPS,\n",
    "    target_crops=[TARGET_CROP],\n",
    "    train_batch_size=4,\n",
    "    crop_band_index=18,\n",
    "    device='cuda',\n",
    "    ignore_crops=None,\n",
    "    min_ratio=0.1,\n",
    "    max_ratio=0.9\n",
    ")"
   ]
  },
  {
   "cell_type": "code",
   "execution_count": 3,
   "id": "9022103b-b845-4291-9a58-966a4a9370dd",
   "metadata": {},
   "outputs": [
    {
     "data": {
      "text/plain": [
       "FeatureExtractor(\n",
       "  (cnn): ShallowCNN(\n",
       "    (block_in): Sequential(\n",
       "      (0): Conv2d(18, 36, kernel_size=(9, 9), stride=(1, 1), padding=(4, 4))\n",
       "      (1): ReLU()\n",
       "    )\n",
       "    (blocks_internal): ModuleList(\n",
       "      (0-3): 4 x Sequential(\n",
       "        (0): Conv2d(36, 36, kernel_size=(9, 9), stride=(1, 1), padding=(4, 4))\n",
       "        (1): ReLU()\n",
       "        (2): Conv2d(36, 36, kernel_size=(9, 9), stride=(1, 1), padding=(4, 4))\n",
       "        (3): ReLU()\n",
       "      )\n",
       "    )\n",
       "    (block_out): Sequential(\n",
       "      (0): Conv2d(36, 18, kernel_size=(9, 9), stride=(1, 1), padding=(4, 4))\n",
       "      (1): ReLU()\n",
       "    )\n",
       "  )\n",
       ")"
      ]
     },
     "execution_count": 3,
     "metadata": {},
     "output_type": "execute_result"
    }
   ],
   "source": [
    "checkpoint_path = './checkpoints/v2/crop1_vs_all.pth'\n",
    "device = 'cuda' if torch.cuda.is_available() else 'cpu'\n",
    "\n",
    "features_extractor = torch.load(checkpoint_path, weights_only=False)\n",
    "features_extractor.to(device)"
   ]
  },
  {
   "cell_type": "code",
   "execution_count": 4,
   "id": "7f7c7aa5-7854-417a-a8eb-3c920975906d",
   "metadata": {},
   "outputs": [],
   "source": [
    "num_features=18\n",
    "num_layers=5\n",
    "mlp = MLP(num_features=num_features, num_layers=num_layers, device=device)"
   ]
  },
  {
   "cell_type": "code",
   "execution_count": 5,
   "id": "d9110eca-8e4d-43f8-8a24-e046fb80d953",
   "metadata": {},
   "outputs": [],
   "source": [
    "img_height = img_width = 32\n",
    "window_size = 30\n",
    "device = 'cuda'\n",
    "sparse_image_obj = create_sparse_structure_from_images(img_height, img_width, window_size, device)\n",
    "order = sparse_image_obj['order']\n",
    "edges = sparse_image_obj['edges']\n",
    "edges = edges\n",
    "edge_i, edge_j = edges[:, 0], edges[:, 1]\n",
    "\n",
    "loss_edges = create_sparse_structure_from_images(img_height, img_width, 3, device)['edges']\n",
    "loss_edges_i, loss_edges_j = loss_edges[:, 0], loss_edges[:, 1]"
   ]
  },
  {
   "cell_type": "code",
   "execution_count": 6,
   "id": "b14efd6e-9340-4116-a6d3-976630eff4f4",
   "metadata": {},
   "outputs": [],
   "source": [
    "# d_star = 1.0\n",
    "\n",
    "# features_extractor.eval()\n",
    "# mlp.train()\n",
    "# epochs = 3\n",
    "\n",
    "# optimizer = optim.Adam(features_extractor.parameters(), lr=0.001)\n",
    "\n",
    "# for epoch in range(epochs):\n",
    "\n",
    "    \n",
    "#     train_running_loss = []\n",
    "#     for batch_idx, (bands, label) in enumerate(tqdm(train_loader, desc=\"Training\")):\n",
    "    \n",
    "    \n",
    "#         with torch.no_grad():\n",
    "#             features = features_extractor(bands)\n",
    "    \n",
    "#         self_loops = mlp(features)\n",
    "    \n",
    "    \n",
    "#         batch_loss_list = [] \n",
    "#         for b in range(bands.shape[0]):\n",
    "    \n",
    "#             for i in range(2):\n",
    "#                 for j in range(2):\n",
    "#                     # Extract the 112x112 quadrant\n",
    "#                     start_h = i * 112\n",
    "#                     start_w = j * 112\n",
    "                    \n",
    "#                     quadrant_features = features[b][start_h:start_h+112, start_w:start_w+112, :]\n",
    "#                     quadrant_label = label[b][start_h:start_h+112, start_w:start_w+112]\n",
    "#                     quadrant_self_loops = self_loops[b][start_h:start_h+112, start_w:start_w+112, :]\n",
    "                    \n",
    "#                     # Reshape and reorder\n",
    "#                     quadrant_features = quadrant_features.reshape(-1, quadrant_features.shape[-1])[order, :]\n",
    "#                     quadrant_label = quadrant_label.reshape(-1)[order]\n",
    "#                     quadrant_self_loops = quadrant_self_loops.reshape(-1)[order]\n",
    "                    \n",
    "#                     features_i, features_j = quadrant_features[edge_i], quadrant_features[edge_j]\n",
    "#                     distances = ((features_i - features_j) ** 2).sum(dim=1)\n",
    "#                     weights = modified_sigmoid(distances, d_star, scale=1)\n",
    "                \n",
    "#                     num_nodes = 112 ** 2\n",
    "#                     sparse_coo = torch.sparse_coo_tensor(\n",
    "#                                             indices=edges.t(),\n",
    "#                                             values=weights,  # Select weights for batch b\n",
    "#                                             size=(num_nodes, num_nodes)\n",
    "#                                             )\n",
    "#                     sparse_adjacency = sparse_coo + sparse_coo.t()\n",
    "                    \n",
    "#                     ones = torch.ones(num_nodes, device=weights.device)\n",
    "#                     D = torch.diag(sparse_adjacency @ ones)\n",
    "#                     quadrant_self_loops = torch.diag(quadrant_self_loops)\n",
    "                    \n",
    "#                     L = D - sparse_adjacency + quadrant_self_loops\n",
    "                    \n",
    "#                     identity = torch.eye(L.shape[0], device=L.device)\n",
    "#                     shifted_L = (2*num_nodes + quadrant_self_loops.max().detach()) * identity - L\n",
    "#                     eigenvector = torch.lobpcg(shifted_L, largest=True, k=1, tol=1e-7)[1]\n",
    "#                     eigenvector = eigenvector.squeeze()\n",
    "    \n",
    "#                     loss_edge_weights = quadrant_label[loss_edges_i] * quadrant_label[loss_edges_j]\n",
    "#                     eigv_i, eigv_j = eigenvector[loss_edges_i], eigenvector[loss_edges_j]\n",
    "#                     single_loss = (loss_edge_weights * (eigv_i - eigv_j) ** 2).mean()                \n",
    "    \n",
    "#                     batch_loss_list.append(single_loss)\n",
    "                    \n",
    "#                     # L = D - sparse_adjacency + quadrant_self_loops\n",
    "                    \n",
    "#                     # eigenvector = torch.lobpcg(L, largest=False, k=1, tol=1e-6)[1]\n",
    "                    \n",
    "#         loss = torch.stack(batch_loss_list).mean()            \n",
    "#         loss.backward()\n",
    "#         optimizer.step()\n",
    "#         optimizer.zero_grad()\n",
    "    \n",
    "#         train_running_loss.append(loss.item())\n",
    "        \n",
    "#         # batch_size = bands.size(0)\n",
    "#         # patch_size = 56\n",
    "#         # start_h = torch.randint(0, bands.size(1) - patch_size + 1, (batch_size,)).to(bands.device)\n",
    "#         # start_w = torch.randint(0, bands.size(2) - patch_size + 1, (batch_size,)).to(bands.device)\n",
    "                \n",
    "#         # patches = torch.zeros(batch_size, patch_size, patch_size, bands.size(3), device=bands.device)\n",
    "#         # patch_labels = torch.zeros(batch_size, patch_size, patch_size, device=bands.device)\n",
    "                \n",
    "#         # for i in range(batch_size):\n",
    "#         #     patches[i] = bands[i, start_h[i]:start_h[i]+patch_size, start_w[i]:start_w[i]+patch_size, :]\n",
    "#         #     patch_labels[i] = label[i, start_h[i]:start_h[i]+patch_size, start_w[i]:start_w[i]+patch_size]\n",
    "                \n",
    "#         # bands = patches\n",
    "#         # label = patch_labels\n",
    "    \n",
    "    \n",
    "        \n",
    "#         # features = features.reshape(features.shape[0], -1, features.shape[-1])[:, order, :]\n",
    "#         # label = label.reshape(label.shape[0], -1)[:, order]\n",
    "    \n",
    "    \n",
    "#         # features_i, features_j = features[:, edge_i, :], features[:, edge_j, :]\n",
    "#         # distances = ((features_i - features_j) ** 2).sum(dim=-1)\n",
    "#         # weights = modified_sigmoid(distances, d_star, scale=1)\n",
    "    \n",
    "#         # num_nodes = patch_size ** 2\n",
    "    \n",
    "#         # # Create a list of sparse tensors for each batch\n",
    "#         # sparse_adj_matrices = []\n",
    "#         # for b in range(weights.shape[0]):\n",
    "#         #     sparse_adj_matrix = torch.sparse_coo_tensor(\n",
    "#         #         indices=edges.t(),\n",
    "#         #         values=weights[b],  # Select weights for batch b\n",
    "#         #         size=(num_nodes, num_nodes)\n",
    "#         #     )\n",
    "#         #     sparse_adj_matrices.append(sparse_adj_matrix)\n",
    "        \n",
    "#         # break\n",
    "#     print(np.mean(train_running_loss))"
   ]
  },
  {
   "cell_type": "code",
   "execution_count": 6,
   "id": "687cbc76-2acf-4180-83e1-7cab0f6617ed",
   "metadata": {},
   "outputs": [
    {
     "name": "stdout",
     "output_type": "stream",
     "text": [
      "Dominant eigenvector: tensor([-0.5257, -0.8507], grad_fn=<DivBackward0>)\n"
     ]
    }
   ],
   "source": [
    "import torch\n",
    "\n",
    "def power_iteration(A, num_iterations=100, tol=1e-6):\n",
    "    \"\"\"\n",
    "    Compute the dominant eigenvector of matrix A using power iteration.\n",
    "    \n",
    "    Args:\n",
    "        A (torch.Tensor): Square matrix of shape (n, n).\n",
    "        num_iterations (int): Maximum number of iterations.\n",
    "        tol (float): Tolerance for convergence.\n",
    "    \n",
    "    Returns:\n",
    "        torch.Tensor: Dominant eigenvector.\n",
    "    \"\"\"\n",
    "    n = A.shape[0]\n",
    "    # Initialize a random vector\n",
    "    v = torch.randn(n, device=A.device, dtype=A.dtype, requires_grad=False)\n",
    "    v = v / torch.norm(v)  # Normalize the initial vector\n",
    "    \n",
    "    for _ in range(num_iterations):\n",
    "        # Matrix-vector multiplication\n",
    "        v_new = torch.matmul(A, v)\n",
    "        # Compute the Rayleigh quotient (approximation of eigenvalue)\n",
    "        eigenvalue = torch.dot(v_new, v)\n",
    "        # Normalize the new vector\n",
    "        v_new_norm = torch.norm(v_new)\n",
    "        v_new = v_new / v_new_norm\n",
    "        # Check for convergence\n",
    "        if torch.norm(v_new - v) < tol:\n",
    "            break\n",
    "        v = v_new\n",
    "    \n",
    "    return v_new\n",
    "\n",
    "# Example usage\n",
    "A = torch.tensor([[2.0, 1.0], [1.0, 3.0]], requires_grad=True)\n",
    "eigenvector = power_iteration(A)\n",
    "print(\"Dominant eigenvector:\", eigenvector)"
   ]
  },
  {
   "cell_type": "code",
   "execution_count": 6,
   "id": "61ed89cf-c822-4c35-9a73-dd2d81ce1e49",
   "metadata": {},
   "outputs": [
    {
     "name": "stderr",
     "output_type": "stream",
     "text": [
      "Training:   3%|█▍                                            | 4/128 [00:22<09:58,  4.83s/it]"
     ]
    },
    {
     "name": "stdout",
     "output_type": "stream",
     "text": [
      "Failed to do backprob for this batch\n"
     ]
    },
    {
     "name": "stderr",
     "output_type": "stream",
     "text": [
      "Training:   5%|██▏                                           | 6/128 [00:40<14:45,  7.26s/it]"
     ]
    },
    {
     "name": "stdout",
     "output_type": "stream",
     "text": [
      "Failed to do backprob for this batch\n"
     ]
    },
    {
     "name": "stderr",
     "output_type": "stream",
     "text": [
      "Training:   9%|███▊                                         | 11/128 [01:13<11:51,  6.08s/it]"
     ]
    },
    {
     "name": "stdout",
     "output_type": "stream",
     "text": [
      "Failed to do backprob for this batch\n"
     ]
    },
    {
     "name": "stderr",
     "output_type": "stream",
     "text": [
      "Training:  15%|██████▋                                      | 19/128 [02:10<13:22,  7.36s/it]"
     ]
    },
    {
     "name": "stdout",
     "output_type": "stream",
     "text": [
      "Failed to do backprob for this batch\n"
     ]
    },
    {
     "name": "stderr",
     "output_type": "stream",
     "text": [
      "Training:  17%|███████▋                                     | 22/128 [02:34<13:45,  7.79s/it]"
     ]
    },
    {
     "name": "stdout",
     "output_type": "stream",
     "text": [
      "Failed to do backprob for this batch\n"
     ]
    },
    {
     "name": "stderr",
     "output_type": "stream",
     "text": [
      "Training:  19%|████████▍                                    | 24/128 [02:50<13:26,  7.76s/it]"
     ]
    },
    {
     "name": "stdout",
     "output_type": "stream",
     "text": [
      "Failed to do backprob for this batch\n"
     ]
    },
    {
     "name": "stderr",
     "output_type": "stream",
     "text": [
      "Training:  22%|█████████▊                                   | 28/128 [03:27<14:30,  8.71s/it]"
     ]
    },
    {
     "name": "stdout",
     "output_type": "stream",
     "text": [
      "Failed to do backprob for this batch\n"
     ]
    },
    {
     "name": "stderr",
     "output_type": "stream",
     "text": [
      "Training:  23%|██████████▏                                  | 29/128 [03:32<12:35,  7.63s/it]"
     ]
    },
    {
     "name": "stdout",
     "output_type": "stream",
     "text": [
      "Failed to do backprob for this batch\n"
     ]
    },
    {
     "name": "stderr",
     "output_type": "stream",
     "text": [
      "Training:  23%|██████████▌                                  | 30/128 [03:42<13:40,  8.37s/it]"
     ]
    },
    {
     "name": "stdout",
     "output_type": "stream",
     "text": [
      "Failed to do backprob for this batch\n"
     ]
    },
    {
     "name": "stderr",
     "output_type": "stream",
     "text": [
      "Training:  24%|██████████▉                                  | 31/128 [03:47<11:55,  7.38s/it]"
     ]
    },
    {
     "name": "stdout",
     "output_type": "stream",
     "text": [
      "Failed to do backprob for this batch\n"
     ]
    },
    {
     "name": "stderr",
     "output_type": "stream",
     "text": [
      "Training:  31%|██████████████                               | 40/128 [04:39<09:08,  6.23s/it]"
     ]
    },
    {
     "name": "stdout",
     "output_type": "stream",
     "text": [
      "Failed to do backprob for this batch\n"
     ]
    },
    {
     "name": "stderr",
     "output_type": "stream",
     "text": [
      "Training:  37%|████████████████▌                            | 47/128 [05:31<09:21,  6.93s/it]"
     ]
    },
    {
     "name": "stdout",
     "output_type": "stream",
     "text": [
      "Failed to do backprob for this batch\n"
     ]
    },
    {
     "name": "stderr",
     "output_type": "stream",
     "text": [
      "Training:  41%|██████████████████▋                          | 53/128 [06:12<09:08,  7.32s/it]"
     ]
    },
    {
     "name": "stdout",
     "output_type": "stream",
     "text": [
      "Failed to do backprob for this batch\n"
     ]
    },
    {
     "name": "stderr",
     "output_type": "stream",
     "text": [
      "Training:  47%|█████████████████████                        | 60/128 [06:57<06:53,  6.07s/it]"
     ]
    },
    {
     "name": "stdout",
     "output_type": "stream",
     "text": [
      "Failed to do backprob for this batch\n"
     ]
    },
    {
     "name": "stderr",
     "output_type": "stream",
     "text": [
      "Training:  49%|██████████████████████▏                      | 63/128 [07:16<06:25,  5.92s/it]"
     ]
    },
    {
     "name": "stdout",
     "output_type": "stream",
     "text": [
      "Failed to do backprob for this batch\n"
     ]
    },
    {
     "name": "stderr",
     "output_type": "stream",
     "text": [
      "Training:  50%|██████████████████████▌                      | 64/128 [07:19<05:18,  4.98s/it]"
     ]
    },
    {
     "name": "stdout",
     "output_type": "stream",
     "text": [
      "Failed to do backprob for this batch\n"
     ]
    },
    {
     "name": "stderr",
     "output_type": "stream",
     "text": [
      "Training:  51%|██████████████████████▊                      | 65/128 [07:21<04:31,  4.32s/it]"
     ]
    },
    {
     "name": "stdout",
     "output_type": "stream",
     "text": [
      "Failed to do backprob for this batch\n"
     ]
    },
    {
     "name": "stderr",
     "output_type": "stream",
     "text": [
      "Training:  54%|████████████████████████▎                    | 69/128 [07:50<06:31,  6.63s/it]"
     ]
    },
    {
     "name": "stdout",
     "output_type": "stream",
     "text": [
      "Failed to do backprob for this batch\n"
     ]
    },
    {
     "name": "stderr",
     "output_type": "stream",
     "text": [
      "Training:  55%|████████████████████████▌                    | 70/128 [08:00<07:21,  7.62s/it]"
     ]
    },
    {
     "name": "stdout",
     "output_type": "stream",
     "text": [
      "Failed to do backprob for this batch\n"
     ]
    },
    {
     "name": "stderr",
     "output_type": "stream",
     "text": [
      "Training:  55%|████████████████████████▉                    | 71/128 [08:05<06:36,  6.95s/it]"
     ]
    },
    {
     "name": "stdout",
     "output_type": "stream",
     "text": [
      "Failed to do backprob for this batch\n"
     ]
    },
    {
     "name": "stderr",
     "output_type": "stream",
     "text": [
      "Training:  59%|██████████████████████████▎                  | 75/128 [08:32<06:25,  7.27s/it]"
     ]
    },
    {
     "name": "stdout",
     "output_type": "stream",
     "text": [
      "Failed to do backprob for this batch\n"
     ]
    },
    {
     "name": "stderr",
     "output_type": "stream",
     "text": [
      "Training:  61%|███████████████████████████▍                 | 78/128 [08:55<06:19,  7.60s/it]"
     ]
    },
    {
     "name": "stdout",
     "output_type": "stream",
     "text": [
      "Failed to do backprob for this batch\n"
     ]
    },
    {
     "name": "stderr",
     "output_type": "stream",
     "text": [
      "Training:  70%|███████████████████████████████▎             | 89/128 [10:00<04:06,  6.31s/it]"
     ]
    },
    {
     "name": "stdout",
     "output_type": "stream",
     "text": [
      "Failed to do backprob for this batch\n"
     ]
    },
    {
     "name": "stderr",
     "output_type": "stream",
     "text": [
      "Training:  71%|███████████████████████████████▉             | 91/128 [10:06<02:46,  4.49s/it]"
     ]
    },
    {
     "name": "stdout",
     "output_type": "stream",
     "text": [
      "Failed to do backprob for this batch\n"
     ]
    },
    {
     "name": "stderr",
     "output_type": "stream",
     "text": [
      "Training:  72%|████████████████████████████████▎            | 92/128 [10:12<02:56,  4.90s/it]"
     ]
    },
    {
     "name": "stdout",
     "output_type": "stream",
     "text": [
      "Failed to do backprob for this batch\n"
     ]
    },
    {
     "name": "stderr",
     "output_type": "stream",
     "text": [
      "Training:  73%|████████████████████████████████▋            | 93/128 [10:17<02:55,  5.02s/it]"
     ]
    },
    {
     "name": "stdout",
     "output_type": "stream",
     "text": [
      "Failed to do backprob for this batch\n"
     ]
    },
    {
     "name": "stderr",
     "output_type": "stream",
     "text": [
      "Training:  73%|█████████████████████████████████            | 94/128 [10:22<02:52,  5.08s/it]"
     ]
    },
    {
     "name": "stdout",
     "output_type": "stream",
     "text": [
      "Failed to do backprob for this batch\n"
     ]
    },
    {
     "name": "stderr",
     "output_type": "stream",
     "text": [
      "Training:  75%|█████████████████████████████████▊           | 96/128 [10:37<03:30,  6.56s/it]"
     ]
    },
    {
     "name": "stdout",
     "output_type": "stream",
     "text": [
      "Failed to do backprob for this batch\n"
     ]
    },
    {
     "name": "stderr",
     "output_type": "stream",
     "text": [
      "Training:  77%|██████████████████████████████████▍          | 98/128 [10:45<02:37,  5.23s/it]"
     ]
    },
    {
     "name": "stdout",
     "output_type": "stream",
     "text": [
      "Failed to do backprob for this batch\n"
     ]
    },
    {
     "name": "stderr",
     "output_type": "stream",
     "text": [
      "Training:  87%|██████████████████████████████████████▏     | 111/128 [12:27<02:07,  7.49s/it]"
     ]
    },
    {
     "name": "stdout",
     "output_type": "stream",
     "text": [
      "Failed to do backprob for this batch\n"
     ]
    },
    {
     "name": "stderr",
     "output_type": "stream",
     "text": [
      "Training:  88%|██████████████████████████████████████▌     | 112/128 [12:35<01:59,  7.46s/it]"
     ]
    },
    {
     "name": "stdout",
     "output_type": "stream",
     "text": [
      "Failed to do backprob for this batch\n"
     ]
    },
    {
     "name": "stderr",
     "output_type": "stream",
     "text": [
      "Training:  93%|████████████████████████████████████████▉   | 119/128 [13:20<01:00,  6.76s/it]"
     ]
    },
    {
     "name": "stdout",
     "output_type": "stream",
     "text": [
      "Failed to do backprob for this batch\n"
     ]
    },
    {
     "name": "stderr",
     "output_type": "stream",
     "text": [
      "Training:  94%|█████████████████████████████████████████▎  | 120/128 [13:25<00:51,  6.40s/it]"
     ]
    },
    {
     "name": "stdout",
     "output_type": "stream",
     "text": [
      "Failed to do backprob for this batch\n"
     ]
    },
    {
     "name": "stderr",
     "output_type": "stream",
     "text": [
      "Training:  98%|███████████████████████████████████████████▎| 126/128 [13:59<00:11,  5.52s/it]"
     ]
    },
    {
     "name": "stdout",
     "output_type": "stream",
     "text": [
      "Failed to do backprob for this batch\n"
     ]
    },
    {
     "name": "stderr",
     "output_type": "stream",
     "text": [
      "Training: 100%|████████████████████████████████████████████| 128/128 [14:09<00:00,  6.63s/it]\n"
     ]
    },
    {
     "name": "stdout",
     "output_type": "stream",
     "text": [
      "9.978925226413537e-05\n"
     ]
    },
    {
     "name": "stderr",
     "output_type": "stream",
     "text": [
      "Training:   2%|█                                             | 3/128 [00:21<12:50,  6.16s/it]"
     ]
    },
    {
     "name": "stdout",
     "output_type": "stream",
     "text": [
      "Failed to do backprob for this batch\n"
     ]
    },
    {
     "name": "stderr",
     "output_type": "stream",
     "text": [
      "Training:   8%|███▌                                         | 10/128 [01:04<11:07,  5.65s/it]"
     ]
    },
    {
     "name": "stdout",
     "output_type": "stream",
     "text": [
      "Failed to do backprob for this batch\n"
     ]
    },
    {
     "name": "stderr",
     "output_type": "stream",
     "text": [
      "Training:   9%|████▏                                        | 12/128 [01:19<12:18,  6.36s/it]"
     ]
    },
    {
     "name": "stdout",
     "output_type": "stream",
     "text": [
      "Failed to do backprob for this batch\n"
     ]
    },
    {
     "name": "stderr",
     "output_type": "stream",
     "text": [
      "Training:  13%|█████▉                                       | 17/128 [02:01<14:30,  7.84s/it]"
     ]
    },
    {
     "name": "stdout",
     "output_type": "stream",
     "text": [
      "Failed to do backprob for this batch\n"
     ]
    },
    {
     "name": "stderr",
     "output_type": "stream",
     "text": [
      "Training:  14%|██████▎                                      | 18/128 [02:07<12:55,  7.05s/it]"
     ]
    },
    {
     "name": "stdout",
     "output_type": "stream",
     "text": [
      "Failed to do backprob for this batch\n"
     ]
    },
    {
     "name": "stderr",
     "output_type": "stream",
     "text": [
      "Training:  15%|██████▋                                      | 19/128 [02:12<11:44,  6.46s/it]"
     ]
    },
    {
     "name": "stdout",
     "output_type": "stream",
     "text": [
      "Failed to do backprob for this batch\n"
     ]
    },
    {
     "name": "stderr",
     "output_type": "stream",
     "text": [
      "Training:  16%|███████▍                                     | 21/128 [02:22<10:32,  5.91s/it]"
     ]
    },
    {
     "name": "stdout",
     "output_type": "stream",
     "text": [
      "Failed to do backprob for this batch\n"
     ]
    },
    {
     "name": "stderr",
     "output_type": "stream",
     "text": [
      "Training:  17%|███████▋                                     | 22/128 [02:30<11:24,  6.46s/it]"
     ]
    },
    {
     "name": "stdout",
     "output_type": "stream",
     "text": [
      "Failed to do backprob for this batch\n"
     ]
    },
    {
     "name": "stderr",
     "output_type": "stream",
     "text": [
      "Training:  20%|████████▊                                    | 25/128 [02:51<11:55,  6.95s/it]"
     ]
    },
    {
     "name": "stdout",
     "output_type": "stream",
     "text": [
      "Failed to do backprob for this batch\n"
     ]
    },
    {
     "name": "stderr",
     "output_type": "stream",
     "text": [
      "Training:  21%|█████████▍                                   | 27/128 [02:59<09:19,  5.54s/it]"
     ]
    },
    {
     "name": "stdout",
     "output_type": "stream",
     "text": [
      "Failed to do backprob for this batch\n"
     ]
    },
    {
     "name": "stderr",
     "output_type": "stream",
     "text": [
      "Training:  27%|████████████▎                                | 35/128 [03:54<10:42,  6.90s/it]"
     ]
    },
    {
     "name": "stdout",
     "output_type": "stream",
     "text": [
      "Failed to do backprob for this batch\n"
     ]
    },
    {
     "name": "stderr",
     "output_type": "stream",
     "text": [
      "Training:  28%|████████████▋                                | 36/128 [04:02<10:51,  7.09s/it]"
     ]
    },
    {
     "name": "stdout",
     "output_type": "stream",
     "text": [
      "Failed to do backprob for this batch\n"
     ]
    },
    {
     "name": "stderr",
     "output_type": "stream",
     "text": [
      "Training:  29%|█████████████                                | 37/128 [04:08<10:08,  6.69s/it]"
     ]
    },
    {
     "name": "stdout",
     "output_type": "stream",
     "text": [
      "Failed to do backprob for this batch\n"
     ]
    },
    {
     "name": "stderr",
     "output_type": "stream",
     "text": [
      "Training:  33%|██████████████▊                              | 42/128 [04:39<09:07,  6.37s/it]"
     ]
    },
    {
     "name": "stdout",
     "output_type": "stream",
     "text": [
      "Failed to do backprob for this batch\n"
     ]
    },
    {
     "name": "stderr",
     "output_type": "stream",
     "text": [
      "Training:  34%|███████████████▍                             | 44/128 [04:52<08:52,  6.34s/it]"
     ]
    },
    {
     "name": "stdout",
     "output_type": "stream",
     "text": [
      "Failed to do backprob for this batch\n"
     ]
    },
    {
     "name": "stderr",
     "output_type": "stream",
     "text": [
      "Training:  38%|████████████████▉                            | 48/128 [05:22<09:43,  7.30s/it]"
     ]
    },
    {
     "name": "stdout",
     "output_type": "stream",
     "text": [
      "Failed to do backprob for this batch\n"
     ]
    },
    {
     "name": "stderr",
     "output_type": "stream",
     "text": [
      "Training:  40%|█████████████████▉                           | 51/128 [05:42<09:30,  7.41s/it]"
     ]
    },
    {
     "name": "stdout",
     "output_type": "stream",
     "text": [
      "Failed to do backprob for this batch\n"
     ]
    },
    {
     "name": "stderr",
     "output_type": "stream",
     "text": [
      "Training:  42%|██████████████████▉                          | 54/128 [06:01<08:43,  7.08s/it]"
     ]
    },
    {
     "name": "stdout",
     "output_type": "stream",
     "text": [
      "Failed to do backprob for this batch\n"
     ]
    },
    {
     "name": "stderr",
     "output_type": "stream",
     "text": [
      "Training:  50%|██████████████████████▌                      | 64/128 [07:05<06:37,  6.21s/it]"
     ]
    },
    {
     "name": "stdout",
     "output_type": "stream",
     "text": [
      "Failed to do backprob for this batch\n"
     ]
    },
    {
     "name": "stderr",
     "output_type": "stream",
     "text": [
      "Training:  54%|████████████████████████▎                    | 69/128 [07:31<06:12,  6.31s/it]"
     ]
    },
    {
     "name": "stdout",
     "output_type": "stream",
     "text": [
      "Failed to do backprob for this batch\n"
     ]
    },
    {
     "name": "stderr",
     "output_type": "stream",
     "text": [
      "Training:  62%|████████████████████████████▏                | 80/128 [08:40<04:15,  5.31s/it]"
     ]
    },
    {
     "name": "stdout",
     "output_type": "stream",
     "text": [
      "Failed to do backprob for this batch\n"
     ]
    },
    {
     "name": "stderr",
     "output_type": "stream",
     "text": [
      "Training:  63%|████████████████████████████▍                | 81/128 [08:50<05:26,  6.94s/it]"
     ]
    },
    {
     "name": "stdout",
     "output_type": "stream",
     "text": [
      "Failed to do backprob for this batch\n"
     ]
    },
    {
     "name": "stderr",
     "output_type": "stream",
     "text": [
      "Training:  65%|█████████████████████████████▏               | 83/128 [08:58<04:08,  5.52s/it]"
     ]
    },
    {
     "name": "stdout",
     "output_type": "stream",
     "text": [
      "Failed to do backprob for this batch\n"
     ]
    },
    {
     "name": "stderr",
     "output_type": "stream",
     "text": [
      "Training:  67%|██████████████████████████████▏              | 86/128 [09:16<04:04,  5.81s/it]"
     ]
    },
    {
     "name": "stdout",
     "output_type": "stream",
     "text": [
      "Failed to do backprob for this batch\n"
     ]
    },
    {
     "name": "stderr",
     "output_type": "stream",
     "text": [
      "Training:  77%|██████████████████████████████████▊          | 99/128 [10:47<03:00,  6.24s/it]"
     ]
    },
    {
     "name": "stdout",
     "output_type": "stream",
     "text": [
      "Failed to do backprob for this batch\n"
     ]
    },
    {
     "name": "stderr",
     "output_type": "stream",
     "text": [
      "Training:  79%|██████████████████████████████████▋         | 101/128 [10:57<02:38,  5.86s/it]"
     ]
    },
    {
     "name": "stdout",
     "output_type": "stream",
     "text": [
      "Failed to do backprob for this batch\n"
     ]
    },
    {
     "name": "stderr",
     "output_type": "stream",
     "text": [
      "Training:  88%|██████████████████████████████████████▊     | 113/128 [12:17<01:38,  6.57s/it]"
     ]
    },
    {
     "name": "stdout",
     "output_type": "stream",
     "text": [
      "Failed to do backprob for this batch\n"
     ]
    },
    {
     "name": "stderr",
     "output_type": "stream",
     "text": [
      "Training:  89%|███████████████████████████████████████▏    | 114/128 [12:25<01:35,  6.85s/it]"
     ]
    },
    {
     "name": "stdout",
     "output_type": "stream",
     "text": [
      "Failed to do backprob for this batch\n"
     ]
    },
    {
     "name": "stderr",
     "output_type": "stream",
     "text": [
      "Training: 100%|████████████████████████████████████████████| 128/128 [14:00<00:00,  6.56s/it]\n"
     ]
    },
    {
     "name": "stdout",
     "output_type": "stream",
     "text": [
      "5.9967102984046506e-05\n"
     ]
    },
    {
     "name": "stderr",
     "output_type": "stream",
     "text": [
      "Training:  14%|██████▎                                      | 18/128 [01:58<12:13,  6.67s/it]"
     ]
    },
    {
     "name": "stdout",
     "output_type": "stream",
     "text": [
      "Failed to do backprob for this batch\n"
     ]
    },
    {
     "name": "stderr",
     "output_type": "stream",
     "text": [
      "Training:  16%|███████                                      | 20/128 [02:16<13:56,  7.74s/it]"
     ]
    },
    {
     "name": "stdout",
     "output_type": "stream",
     "text": [
      "Failed to do backprob for this batch\n"
     ]
    },
    {
     "name": "stderr",
     "output_type": "stream",
     "text": [
      "Training:  18%|████████                                     | 23/128 [02:35<11:21,  6.49s/it]"
     ]
    },
    {
     "name": "stdout",
     "output_type": "stream",
     "text": [
      "Failed to do backprob for this batch\n"
     ]
    },
    {
     "name": "stderr",
     "output_type": "stream",
     "text": [
      "Training:  20%|████████▊                                    | 25/128 [02:47<10:28,  6.10s/it]"
     ]
    },
    {
     "name": "stdout",
     "output_type": "stream",
     "text": [
      "Failed to do backprob for this batch\n"
     ]
    },
    {
     "name": "stderr",
     "output_type": "stream",
     "text": [
      "Training:  21%|█████████▍                                   | 27/128 [02:56<08:02,  4.78s/it]"
     ]
    },
    {
     "name": "stdout",
     "output_type": "stream",
     "text": [
      "Failed to do backprob for this batch\n"
     ]
    },
    {
     "name": "stderr",
     "output_type": "stream",
     "text": [
      "Training:  23%|██████████▏                                  | 29/128 [03:06<08:42,  5.28s/it]"
     ]
    },
    {
     "name": "stdout",
     "output_type": "stream",
     "text": [
      "Failed to do backprob for this batch\n"
     ]
    },
    {
     "name": "stderr",
     "output_type": "stream",
     "text": [
      "Training:  27%|████████████▎                                | 35/128 [03:43<09:49,  6.34s/it]"
     ]
    },
    {
     "name": "stdout",
     "output_type": "stream",
     "text": [
      "Failed to do backprob for this batch\n"
     ]
    },
    {
     "name": "stderr",
     "output_type": "stream",
     "text": [
      "Training:  28%|████████████▋                                | 36/128 [03:50<10:17,  6.71s/it]"
     ]
    },
    {
     "name": "stdout",
     "output_type": "stream",
     "text": [
      "Failed to do backprob for this batch\n"
     ]
    },
    {
     "name": "stderr",
     "output_type": "stream",
     "text": [
      "Training:  33%|██████████████▊                              | 42/128 [04:27<09:40,  6.75s/it]"
     ]
    },
    {
     "name": "stdout",
     "output_type": "stream",
     "text": [
      "Failed to do backprob for this batch\n"
     ]
    },
    {
     "name": "stderr",
     "output_type": "stream",
     "text": [
      "Training:  38%|█████████████████▏                           | 49/128 [05:17<09:51,  7.49s/it]"
     ]
    },
    {
     "name": "stdout",
     "output_type": "stream",
     "text": [
      "Failed to do backprob for this batch\n"
     ]
    },
    {
     "name": "stderr",
     "output_type": "stream",
     "text": [
      "Training:  39%|█████████████████▌                           | 50/128 [05:24<09:41,  7.45s/it]"
     ]
    },
    {
     "name": "stdout",
     "output_type": "stream",
     "text": [
      "Failed to do backprob for this batch\n"
     ]
    },
    {
     "name": "stderr",
     "output_type": "stream",
     "text": [
      "Training:  45%|████████████████████                         | 57/128 [06:09<07:13,  6.11s/it]"
     ]
    },
    {
     "name": "stdout",
     "output_type": "stream",
     "text": [
      "Failed to do backprob for this batch\n"
     ]
    },
    {
     "name": "stderr",
     "output_type": "stream",
     "text": [
      "Training:  45%|████████████████████▍                        | 58/128 [06:17<07:41,  6.59s/it]"
     ]
    },
    {
     "name": "stdout",
     "output_type": "stream",
     "text": [
      "Failed to do backprob for this batch\n"
     ]
    },
    {
     "name": "stderr",
     "output_type": "stream",
     "text": [
      "Training:  52%|███████████████████████▌                     | 67/128 [07:12<07:25,  7.31s/it]"
     ]
    },
    {
     "name": "stdout",
     "output_type": "stream",
     "text": [
      "Failed to do backprob for this batch\n"
     ]
    },
    {
     "name": "stderr",
     "output_type": "stream",
     "text": [
      "Training:  53%|███████████████████████▉                     | 68/128 [07:20<07:28,  7.47s/it]"
     ]
    },
    {
     "name": "stdout",
     "output_type": "stream",
     "text": [
      "Failed to do backprob for this batch\n"
     ]
    },
    {
     "name": "stderr",
     "output_type": "stream",
     "text": [
      "Training:  55%|████████████████████████▌                    | 70/128 [07:33<06:47,  7.03s/it]"
     ]
    },
    {
     "name": "stdout",
     "output_type": "stream",
     "text": [
      "Failed to do backprob for this batch\n"
     ]
    },
    {
     "name": "stderr",
     "output_type": "stream",
     "text": [
      "Training:  57%|█████████████████████████▋                   | 73/128 [07:56<07:01,  7.67s/it]"
     ]
    },
    {
     "name": "stdout",
     "output_type": "stream",
     "text": [
      "Failed to do backprob for this batch\n"
     ]
    },
    {
     "name": "stderr",
     "output_type": "stream",
     "text": [
      "Training:  59%|██████████████████████████▎                  | 75/128 [08:12<06:54,  7.82s/it]"
     ]
    },
    {
     "name": "stdout",
     "output_type": "stream",
     "text": [
      "Failed to do backprob for this batch\n"
     ]
    },
    {
     "name": "stderr",
     "output_type": "stream",
     "text": [
      "Training:  62%|████████████████████████████▏                | 80/128 [08:53<06:46,  8.47s/it]"
     ]
    },
    {
     "name": "stdout",
     "output_type": "stream",
     "text": [
      "Failed to do backprob for this batch\n"
     ]
    },
    {
     "name": "stderr",
     "output_type": "stream",
     "text": [
      "Training:  66%|█████████████████████████████▌               | 84/128 [09:18<05:10,  7.05s/it]"
     ]
    },
    {
     "name": "stdout",
     "output_type": "stream",
     "text": [
      "Failed to do backprob for this batch\n"
     ]
    },
    {
     "name": "stderr",
     "output_type": "stream",
     "text": [
      "Training:  66%|█████████████████████████████▉               | 85/128 [09:29<05:49,  8.12s/it]"
     ]
    },
    {
     "name": "stdout",
     "output_type": "stream",
     "text": [
      "Failed to do backprob for this batch\n"
     ]
    },
    {
     "name": "stderr",
     "output_type": "stream",
     "text": [
      "Training:  68%|██████████████████████████████▌              | 87/128 [09:46<05:42,  8.35s/it]"
     ]
    },
    {
     "name": "stdout",
     "output_type": "stream",
     "text": [
      "Failed to do backprob for this batch\n"
     ]
    },
    {
     "name": "stderr",
     "output_type": "stream",
     "text": [
      "Training:  71%|███████████████████████████████▉             | 91/128 [10:12<04:20,  7.05s/it]"
     ]
    },
    {
     "name": "stdout",
     "output_type": "stream",
     "text": [
      "Failed to do backprob for this batch\n"
     ]
    },
    {
     "name": "stderr",
     "output_type": "stream",
     "text": [
      "Training:  72%|████████████████████████████████▎            | 92/128 [10:17<03:54,  6.51s/it]"
     ]
    },
    {
     "name": "stdout",
     "output_type": "stream",
     "text": [
      "Failed to do backprob for this batch\n"
     ]
    },
    {
     "name": "stderr",
     "output_type": "stream",
     "text": [
      "Training:  73%|█████████████████████████████████            | 94/128 [10:37<04:40,  8.26s/it]"
     ]
    },
    {
     "name": "stdout",
     "output_type": "stream",
     "text": [
      "Failed to do backprob for this batch\n"
     ]
    },
    {
     "name": "stderr",
     "output_type": "stream",
     "text": [
      "Training:  80%|███████████████████████████████████         | 102/128 [11:35<02:38,  6.08s/it]"
     ]
    },
    {
     "name": "stdout",
     "output_type": "stream",
     "text": [
      "Failed to do backprob for this batch\n"
     ]
    },
    {
     "name": "stderr",
     "output_type": "stream",
     "text": [
      "Training:  81%|███████████████████████████████████▊        | 104/128 [11:50<02:48,  7.02s/it]"
     ]
    },
    {
     "name": "stdout",
     "output_type": "stream",
     "text": [
      "Failed to do backprob for this batch\n"
     ]
    },
    {
     "name": "stderr",
     "output_type": "stream",
     "text": [
      "Training:  82%|████████████████████████████████████        | 105/128 [11:58<02:43,  7.12s/it]"
     ]
    },
    {
     "name": "stdout",
     "output_type": "stream",
     "text": [
      "Failed to do backprob for this batch\n"
     ]
    },
    {
     "name": "stderr",
     "output_type": "stream",
     "text": [
      "Training:  87%|██████████████████████████████████████▏     | 111/128 [12:30<01:48,  6.37s/it]"
     ]
    },
    {
     "name": "stdout",
     "output_type": "stream",
     "text": [
      "Failed to do backprob for this batch\n"
     ]
    },
    {
     "name": "stderr",
     "output_type": "stream",
     "text": [
      "Training:  93%|████████████████████████████████████████▉   | 119/128 [13:17<00:49,  5.49s/it]"
     ]
    },
    {
     "name": "stdout",
     "output_type": "stream",
     "text": [
      "Failed to do backprob for this batch\n"
     ]
    },
    {
     "name": "stderr",
     "output_type": "stream",
     "text": [
      "Training:  95%|█████████████████████████████████████████▉  | 122/128 [13:38<00:35,  5.90s/it]"
     ]
    },
    {
     "name": "stdout",
     "output_type": "stream",
     "text": [
      "Failed to do backprob for this batch\n"
     ]
    },
    {
     "name": "stderr",
     "output_type": "stream",
     "text": [
      "Training:  97%|██████████████████████████████████████████▋ | 124/128 [13:48<00:22,  5.58s/it]"
     ]
    },
    {
     "name": "stdout",
     "output_type": "stream",
     "text": [
      "Failed to do backprob for this batch\n"
     ]
    },
    {
     "name": "stderr",
     "output_type": "stream",
     "text": [
      "Training:  99%|███████████████████████████████████████████▋| 127/128 [14:09<00:06,  6.29s/it]"
     ]
    },
    {
     "name": "stdout",
     "output_type": "stream",
     "text": [
      "Failed to do backprob for this batch\n"
     ]
    },
    {
     "name": "stderr",
     "output_type": "stream",
     "text": [
      "Training: 100%|████████████████████████████████████████████| 128/128 [14:12<00:00,  6.66s/it]"
     ]
    },
    {
     "name": "stdout",
     "output_type": "stream",
     "text": [
      "Failed to do backprob for this batch\n",
      "7.724995168821787e-05\n"
     ]
    },
    {
     "name": "stderr",
     "output_type": "stream",
     "text": [
      "\n"
     ]
    }
   ],
   "source": [
    "d_star = 1.0\n",
    "\n",
    "features_extractor.eval()\n",
    "mlp.train()\n",
    "epochs = 1\n",
    "\n",
    "optimizer = optim.Adam(features_extractor.parameters(), lr=0.001)\n",
    "\n",
    "\n",
    "for epoch in range(epochs):\n",
    "\n",
    "    \n",
    "    train_running_loss = []\n",
    "    for batch_idx, (bands, label) in enumerate(tqdm(train_loader, desc=\"Training\")):\n",
    "    \n",
    "    \n",
    "        with torch.no_grad():\n",
    "            features = features_extractor(bands)\n",
    "    \n",
    "        self_loops = mlp(features)\n",
    "    \n",
    "    \n",
    "        batch_loss_list = [] \n",
    "        for b in range(bands.shape[0]):\n",
    "    \n",
    "            # Select a random 64x64 patch\n",
    "            patch_size = 32\n",
    "            max_start_h = bands.size(1) - patch_size\n",
    "            max_start_w = bands.size(2) - patch_size\n",
    "            start_h = random.randint(0, max_start_h) if max_start_h > 0 else 0\n",
    "            start_w = random.randint(0, max_start_w) if max_start_w > 0 else 0\n",
    "            \n",
    "            patch_features = features[b][start_h:start_h+patch_size, start_w:start_w+patch_size, :]\n",
    "            patch_label = label[b][start_h:start_h+patch_size, start_w:start_w+patch_size]\n",
    "            patch_self_loops = self_loops[b][start_h:start_h+patch_size, start_w:start_w+patch_size, :]\n",
    "            \n",
    "            # Reshape and reorder\n",
    "            patch_features = patch_features.reshape(-1, patch_features.shape[-1])[order, :]\n",
    "            patch_label = patch_label.reshape(-1)[order]\n",
    "            patch_self_loops = patch_self_loops.reshape(-1)[order]\n",
    "            \n",
    "            features_i, features_j = patch_features[edge_i], patch_features[edge_j]\n",
    "            distances = ((features_i - features_j) ** 2).sum(dim=1)\n",
    "            weights = modified_sigmoid(distances, d_star, scale=1)\n",
    "        \n",
    "            num_nodes = patch_size ** 2\n",
    "            sparse_coo = torch.sparse_coo_tensor(\n",
    "                                    indices=edges.t(),\n",
    "                                    values=weights,  # Select weights for batch b\n",
    "                                    size=(num_nodes, num_nodes)\n",
    "                                    )\n",
    "            sparse_adjacency = sparse_coo + sparse_coo.t()\n",
    "            \n",
    "            ones = torch.ones(num_nodes, device=weights.device)\n",
    "            D = torch.diag(sparse_adjacency @ ones)\n",
    "            patch_self_loops = torch.diag(patch_self_loops)\n",
    "            \n",
    "            L = D - sparse_adjacency + patch_self_loops\n",
    "            \n",
    "            identity = torch.eye(L.shape[0], device=L.device)\n",
    "            shifted_L = (2*num_nodes + patch_self_loops.max()) * identity - L\n",
    "            eigenvector = torch.lobpcg(shifted_L, largest=True, k=1, tol=1e-7)[1]\n",
    "            eigenvector = eigenvector.squeeze()\n",
    "\n",
    "            loss_edge_weights = patch_label[loss_edges_i] * patch_label[loss_edges_j]\n",
    "            eigv_i, eigv_j = eigenvector[loss_edges_i], eigenvector[loss_edges_j]\n",
    "            single_loss = (torch.abs(loss_edge_weights) * (eigv_i - torch.sign(loss_edge_weights) * eigv_j) ** 2).mean()                \n",
    "\n",
    "            batch_loss_list.append(single_loss)\n",
    "            \n",
    "            # L = D - sparse_adjacency + patch_self_loops\n",
    "            \n",
    "            # eigenvector = torch.lobpcg(L, largest=False, k=1, tol=1e-6)[1]\n",
    "            \n",
    "        loss = torch.stack(batch_loss_list).mean()  \n",
    "        try:\n",
    "            loss.backward()\n",
    "        except:\n",
    "            print(\"Failed to do backprob for this batch\")\n",
    "            continue\n",
    "        # print(\"succeed in doing backprob for this batch\")    \n",
    "        optimizer.step()\n",
    "        optimizer.zero_grad()\n",
    "    \n",
    "        train_running_loss.append(loss.item())\n",
    "        \n",
    "    print(np.mean(train_running_loss))"
   ]
  },
  {
   "cell_type": "code",
   "execution_count": 9,
   "id": "7ae3d224-379a-4c49-a495-b6bcdd391f2c",
   "metadata": {},
   "outputs": [
    {
     "data": {
      "text/plain": [
       "torch.Size([4096, 4096])"
      ]
     },
     "execution_count": 9,
     "metadata": {},
     "output_type": "execute_result"
    }
   ],
   "source": [
    "shifted_L.shape"
   ]
  },
  {
   "cell_type": "code",
   "execution_count": null,
   "id": "0855dc67-f89b-421c-86a5-762975bb8a58",
   "metadata": {},
   "outputs": [],
   "source": []
  },
  {
   "cell_type": "code",
   "execution_count": null,
   "id": "f6665c7d-38c4-460d-8a37-33b19f39678d",
   "metadata": {},
   "outputs": [],
   "source": []
  },
  {
   "cell_type": "code",
   "execution_count": null,
   "id": "54b18399-e722-4439-92a3-12c1bca86128",
   "metadata": {},
   "outputs": [],
   "source": []
  },
  {
   "cell_type": "code",
   "execution_count": 6,
   "id": "5440cb83-d87b-4c05-948a-7a6a552125d3",
   "metadata": {},
   "outputs": [
    {
     "name": "stdout",
     "output_type": "stream",
     "text": [
      "[[0 1 0]\n",
      " [0 0 3]\n",
      " [2 0 0]]\n"
     ]
    }
   ],
   "source": [
    "import numpy as np\n",
    "from scipy.sparse import coo_matrix\n",
    "\n",
    "# Define the data\n",
    "data = np.array([-1, 3, -2])\n",
    "row = np.array([0, 1, 2])\n",
    "col = np.array([1, 2, 0])\n",
    "\n",
    "# Create the sparse COO matrix\n",
    "sparse_adjacency = coo_matrix((data, (row, col)), shape=(3, 3))\n",
    "\n",
    "# Print the matrix (in dense form for visualization)\n",
    "print(np.abs(sparse_adjacency).toarray())"
   ]
  },
  {
   "cell_type": "code",
   "execution_count": 2,
   "id": "c70772f9-844d-4a86-8375-a5ada2691bf1",
   "metadata": {},
   "outputs": [
    {
     "data": {
      "text/plain": [
       "<3x3 sparse matrix of type '<class 'numpy.int64'>'\n",
       "\twith 3 stored elements in COOrdinate format>"
      ]
     },
     "execution_count": 2,
     "metadata": {},
     "output_type": "execute_result"
    }
   ],
   "source": [
    "sparse_adjacency"
   ]
  }
 ],
 "metadata": {
  "kernelspec": {
   "display_name": "Python 3 (ipykernel)",
   "language": "python",
   "name": "python3"
  },
  "language_info": {
   "codemirror_mode": {
    "name": "ipython",
    "version": 3
   },
   "file_extension": ".py",
   "mimetype": "text/x-python",
   "name": "python",
   "nbconvert_exporter": "python",
   "pygments_lexer": "ipython3",
   "version": "3.9.20"
  }
 },
 "nbformat": 4,
 "nbformat_minor": 5
}
