{
 "cells": [
  {
   "cell_type": "code",
   "execution_count": 1,
   "id": "5cda89ae-cc9a-482b-9126-fa8bb7edbdcf",
   "metadata": {},
   "outputs": [],
   "source": [
    "# from model import FeatureExtractor\n",
    "# import numpy as np\n",
    "# from data_manager import create_modified_crop_labels, filter_balanced_patches, CropBinaryDataset\n",
    "# from torch.utils.data import DataLoader\n",
    "# from model import create_feature_pairs, modified_sigmoid\n",
    "# import torch.optim as optim\n",
    "# import torch"
   ]
  },
  {
   "cell_type": "code",
   "execution_count": 2,
   "id": "336facf1-71d1-435f-9a65-04db2159bce6",
   "metadata": {},
   "outputs": [
    {
     "name": "stdout",
     "output_type": "stream",
     "text": [
      "Filtered 1074 patches to 536 good patches (49.91%)\n",
      "Dataset loaded with 536 patches\n",
      "Total pixels: 26894336\n",
      "Positive pixels (+1): 13105006\n",
      "Negative pixels (-1): 13789330\n"
     ]
    }
   ],
   "source": [
    "# features_extractor = FeatureExtractor(num_block = 3, \n",
    "#                         kernel_size = 9, \n",
    "#                         stride = 1, \n",
    "#                         padding = 4, \n",
    "#                         num_channel_in = 18, \n",
    "#                         num_channel_internal = 6, \n",
    "#                         num_channel_out = 18, \n",
    "#                         matrix_size = 18,\n",
    "#                         device = 'cuda')\n",
    "\n",
    "# path_to_train_data = './training_data/train_patches.npy'\n",
    "# path_to_valid_data = './training_data/val_patches.npy'\n",
    "# path_to_test_data = './training_data/test_patches.npy'\n",
    "\n",
    "# train_data = np.load(path_to_train_data)\n",
    "# valid_data = np.load(path_to_valid_data)\n",
    "# test_data = np.load(path_to_test_data)\n",
    "\n",
    "# unchanged_crops = [1, 5, 23, 176]\n",
    "\n",
    "# train_data = create_modified_crop_labels(train_data, unchanged_crops=unchanged_crops, other_value=-1, crop_band_index=18)\n",
    "# valid_data = create_modified_crop_labels(valid_data, unchanged_crops=unchanged_crops, other_value=-1, crop_band_index=18)\n",
    "# test_data  = create_modified_crop_labels(test_data,  unchanged_crops=unchanged_crops, other_value=-1, crop_band_index=18)\n",
    "\n",
    "\n",
    "# target_crops = [5, 23, 176]\n",
    "# train_batch_size = 8\n",
    "\n",
    "# filterd_train_data, _ = filter_balanced_patches(train_data, target_crops, ignore_crops=None)\n",
    "# train_dataset = CropBinaryDataset(filterd_train_data, target_crops=target_crops, crop_band_index=18, device='cuda')\n",
    "# train_loader = DataLoader(train_dataset, batch_size=train_batch_size)"
   ]
  },
  {
   "cell_type": "code",
   "execution_count": 3,
   "id": "85e226c8-e6fa-4225-a4ed-3a4250608001",
   "metadata": {},
   "outputs": [
    {
     "name": "stdout",
     "output_type": "stream",
     "text": [
      "\n",
      "Epoch 1/4\n",
      "Epoch 1 completed. Average Loss: 135360.7638\n",
      "\n",
      "Epoch 2/4\n",
      "Epoch 2 completed. Average Loss: 13.4167\n",
      "\n",
      "Epoch 3/4\n",
      "Epoch 3 completed. Average Loss: 17.0104\n",
      "\n",
      "Epoch 4/4\n",
      "Epoch 4 completed. Average Loss: 12.8346\n"
     ]
    }
   ],
   "source": [
    "# d_star = 1.0\n",
    "# margin = 5.0\n",
    "# num_epochs = 4  # or however many epochs you want\n",
    "\n",
    "# optimizer = optim.Adam(features_extractor.parameters())\n",
    "\n",
    "# # Training loop\n",
    "# for epoch in range(num_epochs):\n",
    "#     print(f\"\\nEpoch {epoch + 1}/{num_epochs}\")\n",
    "    \n",
    "#     # Initialize epoch statistics\n",
    "#     epoch_loss = 0.0\n",
    "#     num_batches = 0\n",
    "    \n",
    "#     # Training loop\n",
    "#     for batch_idx, (bands, label) in enumerate(train_loader):\n",
    "#         # Extract features\n",
    "#         features = features_extractor(bands)\n",
    "#         features = features.reshape(-1, features.shape[-1])\n",
    "#         label = label.reshape(-1)\n",
    "        \n",
    "#         # Create random pairs\n",
    "#         pairs, pair_labels = create_feature_pairs(\n",
    "#             features=features,\n",
    "#             labels=label,\n",
    "#             num_pairs=3000\n",
    "#         )\n",
    "\n",
    "#         positive_pairs = pair_labels == 1\n",
    "#         negative_pairs = pair_labels == -1\n",
    "        \n",
    "#         distances = ((pairs[:, 0] - pairs[:, 1]) ** 2).sum(dim=1)\n",
    "#         weights = modified_sigmoid(distances, d_star=d_star)\n",
    "        \n",
    "#         sum1 = ((2 - weights[positive_pairs]) * distances[positive_pairs]).mean()\n",
    "#         sum2 = ((2 + weights[negative_pairs]) * torch.clamp(margin - distances[negative_pairs], min=0)).mean()\n",
    "#         loss = sum1 + sum2\n",
    "        \n",
    "#         # Backward pass\n",
    "#         loss.backward()\n",
    "#         optimizer.step()\n",
    "#         optimizer.zero_grad()\n",
    "        \n",
    "#         # Update statistics\n",
    "#         epoch_loss += loss.item()\n",
    "#         num_batches += 1\n",
    "        \n",
    "#         # Print progress every N batches\n",
    "#         # if (batch_idx + 1) % 10 == 0:  # Adjust this number based on your batch size\n",
    "#         #     print(f\"Batch {batch_idx + 1}/{len(train_loader)}, Loss: {loss.item():.4f}\")\n",
    "    \n",
    "#     # Print epoch statistics\n",
    "#     avg_epoch_loss = epoch_loss / num_batches\n",
    "#     print(f\"Epoch {epoch + 1} completed. Average Loss: {avg_epoch_loss:.4f}\")"
   ]
  },
  {
   "cell_type": "code",
   "execution_count": 7,
   "id": "3aecd338-dd14-476f-8048-72ed44f14bdd",
   "metadata": {},
   "outputs": [
    {
     "name": "stdout",
     "output_type": "stream",
     "text": [
      "Dataset loaded with 231 patches\n",
      "Total pixels: 11590656\n",
      "Positive pixels (+1): 5498562\n",
      "Negative pixels (-1): 6092094\n"
     ]
    }
   ],
   "source": [
    "# valid_batch_size = 1\n",
    "\n",
    "# valid_dataset = CropBinaryDataset(valid_data, target_crops=target_crops, crop_band_index=18, device='cuda')\n",
    "# valid_loader = DataLoader(valid_dataset, batch_size=valid_batch_size)\n"
   ]
  },
  {
   "cell_type": "code",
   "execution_count": null,
   "id": "8c6199fe-0047-48e2-bf42-2de8edbc4857",
   "metadata": {},
   "outputs": [],
   "source": []
  },
  {
   "cell_type": "code",
   "execution_count": null,
   "id": "4ee173f6-dbd4-4a0e-b246-de37a9f28c03",
   "metadata": {},
   "outputs": [],
   "source": []
  },
  {
   "cell_type": "code",
   "execution_count": null,
   "id": "08a78040-672f-4cc4-ab08-d3b2e8bd987e",
   "metadata": {},
   "outputs": [],
   "source": []
  },
  {
   "cell_type": "code",
   "execution_count": 7,
   "id": "a3013d4e-7c92-4cbc-b6d4-250b2538dcd0",
   "metadata": {},
   "outputs": [],
   "source": [
    "from model import FeatureExtractor\n",
    "import numpy as np\n",
    "from data_manager import (\n",
    "    create_modified_crop_labels,\n",
    "    filter_balanced_patches,\n",
    "    CropBinaryDataset,\n",
    "    setup_training_loader,\n",
    "    setup_validation_loader,\n",
    "    create_sparse_structure_from_images\n",
    ")\n",
    "from torch.utils.data import DataLoader\n",
    "from model import create_feature_pairs, modified_sigmoid, create_coo_sparse_matrix\n",
    "import torch.optim as optim\n",
    "import torch\n",
    "from tqdm import tqdm\n",
    "from scipy.sparse import diags\n",
    "from scipy.sparse.linalg import eigsh\n",
    "from torch.optim.lr_scheduler import StepLR\n",
    "from sklearn.metrics import f1_score\n",
    "from utils import correct_pred_sign"
   ]
  },
  {
   "cell_type": "code",
   "execution_count": 8,
   "id": "df31057a-20b9-4e17-ad62-b04814d50483",
   "metadata": {},
   "outputs": [
    {
     "name": "stdout",
     "output_type": "stream",
     "text": [
      "Filtered 1074 patches to 702 good patches (65.36%)\n",
      "Dataset loaded with 702 patches\n",
      "Total pixels: 35223552\n",
      "Positive pixels (+1): 10910374\n",
      "Negative pixels (-1): 24313178\n"
     ]
    }
   ],
   "source": [
    "train_loader = setup_training_loader(\n",
    "    path_to_train_data='./training_data/train_patches.npy',\n",
    "    unchanged_crops=[1, 5, 23, 176],\n",
    "    target_crops=[176],\n",
    "    train_batch_size=16,\n",
    "    crop_band_index=18,\n",
    "    device='cuda',\n",
    "    ignore_crops=None,  # Example: ignore crop ID 1 when filtering balanced patches\n",
    "    min_ratio=0.1,\n",
    "    max_ratio=0.9\n",
    ")"
   ]
  },
  {
   "cell_type": "code",
   "execution_count": 9,
   "id": "cde64364-1453-4b4c-8ff9-fb2e28d6ef85",
   "metadata": {},
   "outputs": [
    {
     "name": "stdout",
     "output_type": "stream",
     "text": [
      "Filtered 231 patches to 39 good patches (16.88%)\n",
      "Dataset loaded with 39 patches\n",
      "Total pixels: 1956864\n",
      "Positive pixels (+1): 971003\n",
      "Negative pixels (-1): 985861\n"
     ]
    }
   ],
   "source": [
    "val_loader = setup_training_loader(\n",
    "    path_to_train_data='./training_data/val_patches.npy',\n",
    "    unchanged_crops=[1, 5, 23, 176],\n",
    "    target_crops=[176],\n",
    "    train_batch_size=1,\n",
    "    crop_band_index=18,\n",
    "    device='cuda',\n",
    "    ignore_crops=None,  # Example: ignore crop ID 1 when filtering balanced patches\n",
    "    min_ratio=0.4,\n",
    "    max_ratio=0.6\n",
    ")"
   ]
  },
  {
   "cell_type": "code",
   "execution_count": 4,
   "id": "792044e2-cf5f-4505-b807-67ffba13a7a1",
   "metadata": {},
   "outputs": [],
   "source": [
    "features_extractor = FeatureExtractor(num_block = 4, \n",
    "                        kernel_size = 9, \n",
    "                        stride = 1, \n",
    "                        padding = 4, \n",
    "                        num_channel_in = 18, \n",
    "                        num_channel_internal = 18, \n",
    "                        num_channel_out = 18, \n",
    "                        matrix_size = 18,\n",
    "                        device = 'cuda')\n",
    "\n",
    "# state_dict = torch.load('./checkpoints/176_vs_all.pth', weights_only=True)\n",
    "# features_extractor.load_state_dict(state_dict)"
   ]
  },
  {
   "cell_type": "code",
   "execution_count": 5,
   "id": "208ffc0a-2b50-4f22-9704-7593faeec931",
   "metadata": {},
   "outputs": [
    {
     "name": "stdout",
     "output_type": "stream",
     "text": [
      "Trainable parameters: 262944\n"
     ]
    }
   ],
   "source": [
    "# Count only trainable parameters\n",
    "trainable_params = sum(p.numel() for p in features_extractor.parameters() if p.requires_grad)\n",
    "print(\"Trainable parameters:\", trainable_params)\n"
   ]
  },
  {
   "cell_type": "code",
   "execution_count": 6,
   "id": "2bf8eee1-4754-44ae-a08f-20d51b1605fd",
   "metadata": {},
   "outputs": [],
   "source": [
    "optimizer = optim.Adam(features_extractor.parameters(), lr=0.001)\n",
    "\n",
    "# Reduce the learning rate by a factor of 0.1 every 3 epochs\n",
    "scheduler = StepLR(optimizer, step_size=30, gamma=0.5)"
   ]
  },
  {
   "cell_type": "code",
   "execution_count": 7,
   "id": "aaf334ae-a8a0-4ad5-b6f5-022c7b2f0e15",
   "metadata": {},
   "outputs": [
    {
     "name": "stdout",
     "output_type": "stream",
     "text": [
      "\n",
      "Epoch 1/1\n"
     ]
    },
    {
     "name": "stderr",
     "output_type": "stream",
     "text": [
      "100%|████████████████████████████████████████████████████████| 44/44 [04:37<00:00,  6.31s/it]"
     ]
    },
    {
     "name": "stdout",
     "output_type": "stream",
     "text": [
      "Epoch 1 completed. Average Loss: 10.4266\n"
     ]
    },
    {
     "name": "stderr",
     "output_type": "stream",
     "text": [
      "\n"
     ]
    }
   ],
   "source": [
    "d_star = 1.0\n",
    "margin = 5.0\n",
    "num_epochs = 1  # or however many epochs you want\n",
    "\n",
    "\n",
    "features_extractor.train()\n",
    "# Training loop\n",
    "for epoch in range(num_epochs):\n",
    "    print(f\"\\nEpoch {epoch + 1}/{num_epochs}\")\n",
    "    \n",
    "    # Initialize epoch statistics\n",
    "    epoch_loss = 0.0\n",
    "    num_batches = 0\n",
    "    \n",
    "    # Training loop\n",
    "    for batch_idx, (bands, label) in enumerate(tqdm(train_loader)):\n",
    "        # Extract features\n",
    "        features = features_extractor(bands)\n",
    "        features = features.reshape(-1, features.shape[-1])\n",
    "        label = label.reshape(-1)\n",
    "        \n",
    "        # Create random pairs\n",
    "        pairs, pair_labels = create_feature_pairs(\n",
    "            features=features,\n",
    "            labels=label,\n",
    "            num_pairs=5000\n",
    "        )\n",
    "\n",
    "        positive_pairs = pair_labels == 1\n",
    "        negative_pairs = pair_labels == -1\n",
    "        \n",
    "        distances = ((pairs[:, 0] - pairs[:, 1]) ** 2).sum(dim=1)\n",
    "        weights = modified_sigmoid(distances, d_star=d_star)\n",
    "        \n",
    "        sum1 = ((2 - weights[positive_pairs]) * distances[positive_pairs]).mean()\n",
    "        sum2 = ((2 + weights[negative_pairs]) * torch.clamp(margin - distances[negative_pairs], min=0)).mean()\n",
    "        loss = sum1 + sum2\n",
    "        \n",
    "        # Backward pass\n",
    "        loss.backward()\n",
    "        \n",
    "        # Add gradient clipping here\n",
    "        torch.nn.utils.clip_grad_norm_(features_extractor.parameters(), max_norm=1.0)\n",
    "\n",
    "        optimizer.step()\n",
    "        optimizer.zero_grad()\n",
    "        \n",
    "        # Update statistics\n",
    "        epoch_loss += loss.item()\n",
    "        num_batches += 1\n",
    "        \n",
    "        # Print progress every N batches\n",
    "        # if (batch_idx + 1) % 10 == 0:  # Adjust this number based on your batch size\n",
    "        #     print(f\"Batch {batch_idx + 1}/{len(train_loader)}, Loss: {loss.item():.4f}\")\n",
    "\n",
    "    scheduler.step()\n",
    "    # Print epoch statistics\n",
    "    avg_epoch_loss = epoch_loss / num_batches\n",
    "    print(f\"Epoch {epoch + 1} completed. Average Loss: {avg_epoch_loss:.4f}\")"
   ]
  },
  {
   "cell_type": "code",
   "execution_count": 8,
   "id": "5d5a8210-9741-42d1-a98a-fa70819cbb83",
   "metadata": {},
   "outputs": [],
   "source": [
    "positive_center, negative_center = features_extractor.calculate_feature_centers(train_loader)"
   ]
  },
  {
   "cell_type": "code",
   "execution_count": 2,
   "id": "5bdd55b2-83b1-4876-bcb5-9cfc9233c637",
   "metadata": {},
   "outputs": [],
   "source": [
    "img_height = img_width = 112\n",
    "window_size = 30\n",
    "device = 'cuda'\n",
    "sparse_image_obj = create_sparse_structure_from_images(img_height, img_width, window_size, device)\n",
    "order = sparse_image_obj['order']\n",
    "edges = sparse_image_obj['edges']\n",
    "edges = edges.cpu().numpy()\n",
    "edge_i, edge_j = edges[:, 0], edges[:, 1]"
   ]
  },
  {
   "cell_type": "code",
   "execution_count": 37,
   "id": "b0fa9177-0337-4ed0-b9d6-47b60784bdcc",
   "metadata": {},
   "outputs": [
    {
     "name": "stderr",
     "output_type": "stream",
     "text": [
      "  1%|▌                                                       | 1/103 [00:01<02:09,  1.27s/it]"
     ]
    },
    {
     "name": "stdout",
     "output_type": "stream",
     "text": [
      "0.8919802295918368\n",
      "0.8441991491318845\n"
     ]
    },
    {
     "name": "stderr",
     "output_type": "stream",
     "text": [
      "  2%|█                                                       | 2/103 [00:02<01:49,  1.08s/it]"
     ]
    },
    {
     "name": "stdout",
     "output_type": "stream",
     "text": [
      "0.9293686224489796\n",
      "0.9132563148619541\n"
     ]
    },
    {
     "name": "stderr",
     "output_type": "stream",
     "text": [
      "  3%|█▋                                                      | 3/103 [00:03<01:51,  1.12s/it]"
     ]
    },
    {
     "name": "stdout",
     "output_type": "stream",
     "text": [
      "0.9357461734693877\n",
      "0.8761524277811924\n"
     ]
    },
    {
     "name": "stderr",
     "output_type": "stream",
     "text": [
      "  4%|██▏                                                     | 4/103 [00:04<01:49,  1.11s/it]"
     ]
    },
    {
     "name": "stdout",
     "output_type": "stream",
     "text": [
      "0.8698979591836735\n",
      "0.7575037147102526\n"
     ]
    },
    {
     "name": "stderr",
     "output_type": "stream",
     "text": [
      "  5%|██▋                                                     | 5/103 [00:05<01:57,  1.20s/it]"
     ]
    },
    {
     "name": "stdout",
     "output_type": "stream",
     "text": [
      "0.9112723214285714\n",
      "0.8172713840091939\n"
     ]
    },
    {
     "name": "stderr",
     "output_type": "stream",
     "text": [
      "  6%|███▎                                                    | 6/103 [00:06<01:44,  1.08s/it]"
     ]
    },
    {
     "name": "stdout",
     "output_type": "stream",
     "text": [
      "0.9324776785714286\n",
      "0.9376701744057694\n"
     ]
    },
    {
     "name": "stderr",
     "output_type": "stream",
     "text": [
      "  7%|███▊                                                    | 7/103 [00:07<01:39,  1.04s/it]"
     ]
    },
    {
     "name": "stdout",
     "output_type": "stream",
     "text": [
      "0.9359853316326531\n",
      "0.8852365299414034\n"
     ]
    },
    {
     "name": "stderr",
     "output_type": "stream",
     "text": [
      "  8%|████▎                                                   | 8/103 [00:08<01:35,  1.01s/it]"
     ]
    },
    {
     "name": "stdout",
     "output_type": "stream",
     "text": [
      "0.9196428571428571\n",
      "0.9058119977574285\n"
     ]
    },
    {
     "name": "stderr",
     "output_type": "stream",
     "text": [
      "  9%|████▉                                                   | 9/103 [00:09<01:36,  1.02s/it]"
     ]
    },
    {
     "name": "stdout",
     "output_type": "stream",
     "text": [
      "0.9198820153061225\n",
      "0.8801431127012522\n"
     ]
    },
    {
     "name": "stderr",
     "output_type": "stream",
     "text": [
      " 10%|█████▎                                                 | 10/103 [00:10<01:44,  1.13s/it]"
     ]
    },
    {
     "name": "stdout",
     "output_type": "stream",
     "text": [
      "0.9142219387755102\n",
      "0.8089488636363636\n"
     ]
    },
    {
     "name": "stderr",
     "output_type": "stream",
     "text": [
      " 11%|█████▊                                                 | 11/103 [00:12<01:41,  1.10s/it]"
     ]
    },
    {
     "name": "stdout",
     "output_type": "stream",
     "text": [
      "0.8741230867346939\n",
      "0.8972339733159779\n"
     ]
    },
    {
     "name": "stderr",
     "output_type": "stream",
     "text": [
      " 12%|██████▍                                                | 12/103 [00:13<01:39,  1.09s/it]"
     ]
    },
    {
     "name": "stdout",
     "output_type": "stream",
     "text": [
      "0.8840082908163265\n",
      "0.859243494243978\n"
     ]
    },
    {
     "name": "stderr",
     "output_type": "stream",
     "text": [
      " 13%|██████▉                                                | 13/103 [00:14<01:36,  1.08s/it]"
     ]
    },
    {
     "name": "stdout",
     "output_type": "stream",
     "text": [
      "0.8081951530612245\n",
      "0.7835552356962936\n"
     ]
    },
    {
     "name": "stderr",
     "output_type": "stream",
     "text": [
      " 14%|███████▍                                               | 14/103 [00:15<01:40,  1.13s/it]"
     ]
    },
    {
     "name": "stdout",
     "output_type": "stream",
     "text": [
      "0.7119738520408163\n",
      "0.07430181911350243\n"
     ]
    },
    {
     "name": "stderr",
     "output_type": "stream",
     "text": [
      " 15%|████████                                               | 15/103 [00:16<01:34,  1.08s/it]"
     ]
    },
    {
     "name": "stdout",
     "output_type": "stream",
     "text": [
      "0.9093590561224489\n",
      "0.9025790420700882\n"
     ]
    },
    {
     "name": "stderr",
     "output_type": "stream",
     "text": [
      " 16%|████████▌                                              | 16/103 [00:17<01:27,  1.01s/it]"
     ]
    },
    {
     "name": "stdout",
     "output_type": "stream",
     "text": [
      "0.8972417091836735\n",
      "0.8912144484766646\n"
     ]
    },
    {
     "name": "stderr",
     "output_type": "stream",
     "text": [
      " 17%|█████████                                              | 17/103 [00:18<01:28,  1.03s/it]"
     ]
    },
    {
     "name": "stdout",
     "output_type": "stream",
     "text": [
      "0.9256218112244898\n",
      "0.8109422492401216\n"
     ]
    },
    {
     "name": "stderr",
     "output_type": "stream",
     "text": [
      " 17%|█████████▌                                             | 18/103 [00:19<01:28,  1.04s/it]"
     ]
    },
    {
     "name": "stdout",
     "output_type": "stream",
     "text": [
      "0.9555165816326531\n",
      "0.7625531914893617\n"
     ]
    },
    {
     "name": "stderr",
     "output_type": "stream",
     "text": [
      " 18%|██████████▏                                            | 19/103 [00:20<01:27,  1.04s/it]"
     ]
    },
    {
     "name": "stdout",
     "output_type": "stream",
     "text": [
      "0.9294483418367347\n",
      "0.9180783115801167\n"
     ]
    },
    {
     "name": "stderr",
     "output_type": "stream",
     "text": [
      " 19%|██████████▋                                            | 20/103 [00:21<01:31,  1.11s/it]"
     ]
    },
    {
     "name": "stdout",
     "output_type": "stream",
     "text": [
      "0.6103316326530612\n",
      "0.3568421052631579\n"
     ]
    },
    {
     "name": "stderr",
     "output_type": "stream",
     "text": [
      " 20%|███████████▏                                           | 21/103 [00:22<01:34,  1.15s/it]"
     ]
    },
    {
     "name": "stdout",
     "output_type": "stream",
     "text": [
      "0.6503507653061225\n",
      "0.49759450171821307\n"
     ]
    },
    {
     "name": "stderr",
     "output_type": "stream",
     "text": [
      " 21%|███████████▋                                           | 22/103 [00:24<01:33,  1.15s/it]"
     ]
    },
    {
     "name": "stdout",
     "output_type": "stream",
     "text": [
      "0.9169323979591837\n",
      "0.9328088728398246\n"
     ]
    },
    {
     "name": "stderr",
     "output_type": "stream",
     "text": [
      " 22%|████████████▎                                          | 23/103 [00:25<01:32,  1.15s/it]"
     ]
    },
    {
     "name": "stdout",
     "output_type": "stream",
     "text": [
      "0.8501275510204082\n",
      "0.6739507457509538\n"
     ]
    },
    {
     "name": "stderr",
     "output_type": "stream",
     "text": [
      " 23%|████████████▊                                          | 24/103 [00:26<01:31,  1.16s/it]"
     ]
    },
    {
     "name": "stdout",
     "output_type": "stream",
     "text": [
      "0.8952487244897959\n",
      "0.9106122448979592\n"
     ]
    },
    {
     "name": "stderr",
     "output_type": "stream",
     "text": [
      " 24%|█████████████▎                                         | 25/103 [00:27<01:25,  1.10s/it]"
     ]
    },
    {
     "name": "stdout",
     "output_type": "stream",
     "text": [
      "0.9312021683673469\n",
      "0.9256995264743866\n"
     ]
    },
    {
     "name": "stderr",
     "output_type": "stream",
     "text": [
      " 25%|█████████████▉                                         | 26/103 [00:28<01:21,  1.05s/it]"
     ]
    },
    {
     "name": "stdout",
     "output_type": "stream",
     "text": [
      "0.8524394132653061\n",
      "0.8143616487814662\n"
     ]
    },
    {
     "name": "stderr",
     "output_type": "stream",
     "text": [
      " 26%|██████████████▍                                        | 27/103 [00:29<01:22,  1.08s/it]"
     ]
    },
    {
     "name": "stdout",
     "output_type": "stream",
     "text": [
      "0.9635682397959183\n",
      "0.729745712596097\n"
     ]
    },
    {
     "name": "stderr",
     "output_type": "stream",
     "text": [
      " 27%|██████████████▉                                        | 28/103 [00:30<01:22,  1.10s/it]"
     ]
    },
    {
     "name": "stdout",
     "output_type": "stream",
     "text": [
      "0.8986766581632653\n",
      "0.8920777787212363\n"
     ]
    },
    {
     "name": "stderr",
     "output_type": "stream",
     "text": [
      " 28%|███████████████▍                                       | 29/103 [00:31<01:25,  1.16s/it]"
     ]
    },
    {
     "name": "stdout",
     "output_type": "stream",
     "text": [
      "0.9030612244897959\n",
      "0.9238476953907816\n"
     ]
    },
    {
     "name": "stderr",
     "output_type": "stream",
     "text": [
      " 29%|████████████████                                       | 30/103 [00:32<01:19,  1.10s/it]"
     ]
    },
    {
     "name": "stdout",
     "output_type": "stream",
     "text": [
      "0.6913265306122449\n",
      "0.4152823920265781\n"
     ]
    },
    {
     "name": "stderr",
     "output_type": "stream",
     "text": [
      " 30%|████████████████▌                                      | 31/103 [00:33<01:17,  1.08s/it]"
     ]
    },
    {
     "name": "stdout",
     "output_type": "stream",
     "text": [
      "0.9381377551020408\n",
      "0.9053889295293831\n"
     ]
    },
    {
     "name": "stderr",
     "output_type": "stream",
     "text": [
      " 31%|█████████████████                                      | 32/103 [00:34<01:16,  1.07s/it]"
     ]
    },
    {
     "name": "stdout",
     "output_type": "stream",
     "text": [
      "0.8957270408163265\n",
      "0.7423167848699763\n"
     ]
    },
    {
     "name": "stderr",
     "output_type": "stream",
     "text": [
      " 32%|█████████████████▌                                     | 33/103 [00:36<01:16,  1.09s/it]"
     ]
    },
    {
     "name": "stdout",
     "output_type": "stream",
     "text": [
      "0.9655612244897959\n",
      "0.8454935622317596\n"
     ]
    },
    {
     "name": "stderr",
     "output_type": "stream",
     "text": [
      " 33%|██████████████████▏                                    | 34/103 [00:37<01:16,  1.11s/it]"
     ]
    },
    {
     "name": "stdout",
     "output_type": "stream",
     "text": [
      "0.7626753826530612\n",
      "0.49448123620309054\n"
     ]
    },
    {
     "name": "stderr",
     "output_type": "stream",
     "text": [
      " 34%|██████████████████▋                                    | 35/103 [00:38<01:14,  1.09s/it]"
     ]
    },
    {
     "name": "stdout",
     "output_type": "stream",
     "text": [
      "0.919563137755102\n",
      "0.912648255562289\n"
     ]
    },
    {
     "name": "stderr",
     "output_type": "stream",
     "text": [
      " 35%|███████████████████▏                                   | 36/103 [00:39<01:08,  1.02s/it]"
     ]
    },
    {
     "name": "stdout",
     "output_type": "stream",
     "text": [
      "0.9420440051020408\n",
      "0.8673599708082467\n"
     ]
    },
    {
     "name": "stderr",
     "output_type": "stream",
     "text": [
      " 36%|███████████████████▊                                   | 37/103 [00:40<01:12,  1.10s/it]"
     ]
    },
    {
     "name": "stdout",
     "output_type": "stream",
     "text": [
      "0.9541613520408163\n",
      "0.7434181169120928\n"
     ]
    },
    {
     "name": "stderr",
     "output_type": "stream",
     "text": [
      " 37%|████████████████████▎                                  | 38/103 [00:41<01:10,  1.08s/it]"
     ]
    },
    {
     "name": "stdout",
     "output_type": "stream",
     "text": [
      "0.9088010204081632\n",
      "0.9046348782927642\n"
     ]
    },
    {
     "name": "stderr",
     "output_type": "stream",
     "text": [
      " 38%|████████████████████▊                                  | 39/103 [00:42<01:08,  1.07s/it]"
     ]
    },
    {
     "name": "stdout",
     "output_type": "stream",
     "text": [
      "0.9704241071428571\n",
      "0.4979702300405954\n"
     ]
    },
    {
     "name": "stderr",
     "output_type": "stream",
     "text": [
      " 39%|█████████████████████▎                                 | 40/103 [00:43<01:13,  1.16s/it]"
     ]
    },
    {
     "name": "stdout",
     "output_type": "stream",
     "text": [
      "0.9182876275510204\n",
      "0.8845850692489584\n"
     ]
    },
    {
     "name": "stderr",
     "output_type": "stream",
     "text": [
      " 40%|█████████████████████▉                                 | 41/103 [00:44<01:08,  1.10s/it]"
     ]
    },
    {
     "name": "stdout",
     "output_type": "stream",
     "text": [
      "0.8884725765306123\n",
      "0.8716160411122327\n"
     ]
    },
    {
     "name": "stderr",
     "output_type": "stream",
     "text": [
      " 41%|██████████████████████▍                                | 42/103 [00:45<01:08,  1.12s/it]"
     ]
    },
    {
     "name": "stdout",
     "output_type": "stream",
     "text": [
      "0.9336734693877551\n",
      "0.6498316498316499\n"
     ]
    },
    {
     "name": "stderr",
     "output_type": "stream",
     "text": [
      " 42%|██████████████████████▉                                | 43/103 [00:47<01:05,  1.10s/it]"
     ]
    },
    {
     "name": "stdout",
     "output_type": "stream",
     "text": [
      "0.9216358418367347\n",
      "0.8611385788953242\n"
     ]
    },
    {
     "name": "stderr",
     "output_type": "stream",
     "text": [
      " 43%|███████████████████████▍                               | 44/103 [00:48<01:03,  1.08s/it]"
     ]
    },
    {
     "name": "stdout",
     "output_type": "stream",
     "text": [
      "0.9437978316326531\n",
      "0.8082676094642371\n"
     ]
    },
    {
     "name": "stderr",
     "output_type": "stream",
     "text": [
      " 44%|████████████████████████                               | 45/103 [00:49<01:03,  1.10s/it]"
     ]
    },
    {
     "name": "stdout",
     "output_type": "stream",
     "text": [
      "0.9147799744897959\n",
      "0.7478178815758434\n"
     ]
    },
    {
     "name": "stderr",
     "output_type": "stream",
     "text": [
      " 45%|████████████████████████▌                              | 46/103 [00:50<01:05,  1.15s/it]"
     ]
    },
    {
     "name": "stdout",
     "output_type": "stream",
     "text": [
      "0.9513711734693877\n",
      "0.8589921405455386\n"
     ]
    },
    {
     "name": "stderr",
     "output_type": "stream",
     "text": [
      " 46%|█████████████████████████                              | 47/103 [00:51<01:00,  1.09s/it]"
     ]
    },
    {
     "name": "stdout",
     "output_type": "stream",
     "text": [
      "0.9325573979591837\n",
      "0.8825\n"
     ]
    },
    {
     "name": "stderr",
     "output_type": "stream",
     "text": [
      " 47%|█████████████████████████▋                             | 48/103 [00:52<00:55,  1.02s/it]"
     ]
    },
    {
     "name": "stdout",
     "output_type": "stream",
     "text": [
      "0.8879942602040817\n",
      "0.7688764599440697\n"
     ]
    },
    {
     "name": "stderr",
     "output_type": "stream",
     "text": [
      " 48%|██████████████████████████▏                            | 49/103 [00:53<00:59,  1.10s/it]"
     ]
    },
    {
     "name": "stdout",
     "output_type": "stream",
     "text": [
      "0.8857621173469388\n",
      "0.8581890153389411\n"
     ]
    },
    {
     "name": "stderr",
     "output_type": "stream",
     "text": [
      " 49%|██████████████████████████▋                            | 50/103 [00:55<01:03,  1.21s/it]"
     ]
    },
    {
     "name": "stdout",
     "output_type": "stream",
     "text": [
      "0.9485809948979592\n",
      "0.9608259945338598\n"
     ]
    },
    {
     "name": "stderr",
     "output_type": "stream",
     "text": [
      " 50%|███████████████████████████▏                           | 51/103 [00:56<01:03,  1.22s/it]"
     ]
    },
    {
     "name": "stdout",
     "output_type": "stream",
     "text": [
      "0.9369419642857143\n",
      "0.8417050230138083\n"
     ]
    },
    {
     "name": "stderr",
     "output_type": "stream",
     "text": [
      " 50%|███████████████████████████▊                           | 52/103 [00:57<00:59,  1.17s/it]"
     ]
    },
    {
     "name": "stdout",
     "output_type": "stream",
     "text": [
      "0.9181281887755102\n",
      "0.7927346115035317\n"
     ]
    },
    {
     "name": "stderr",
     "output_type": "stream",
     "text": [
      " 51%|████████████████████████████▎                          | 53/103 [00:58<01:01,  1.23s/it]"
     ]
    },
    {
     "name": "stdout",
     "output_type": "stream",
     "text": [
      "0.8369738520408163\n",
      "0.6034516191584255\n"
     ]
    },
    {
     "name": "stderr",
     "output_type": "stream",
     "text": [
      " 52%|████████████████████████████▊                          | 54/103 [00:59<00:59,  1.21s/it]"
     ]
    },
    {
     "name": "stdout",
     "output_type": "stream",
     "text": [
      "0.9599011479591837\n",
      "0.7575903614457832\n"
     ]
    },
    {
     "name": "stderr",
     "output_type": "stream",
     "text": [
      " 53%|█████████████████████████████▎                         | 55/103 [01:00<00:54,  1.13s/it]"
     ]
    },
    {
     "name": "stdout",
     "output_type": "stream",
     "text": [
      "0.920280612244898\n",
      "0.9300699300699301\n"
     ]
    },
    {
     "name": "stderr",
     "output_type": "stream",
     "text": [
      " 54%|█████████████████████████████▉                         | 56/103 [01:01<00:53,  1.14s/it]"
     ]
    },
    {
     "name": "stdout",
     "output_type": "stream",
     "text": [
      "0.947624362244898\n",
      "0.7017703132092601\n"
     ]
    },
    {
     "name": "stderr",
     "output_type": "stream",
     "text": [
      " 55%|██████████████████████████████▍                        | 57/103 [01:03<00:51,  1.11s/it]"
     ]
    },
    {
     "name": "stdout",
     "output_type": "stream",
     "text": [
      "0.9305644132653061\n",
      "0.9348492781808662\n"
     ]
    },
    {
     "name": "stderr",
     "output_type": "stream",
     "text": [
      " 56%|██████████████████████████████▉                        | 58/103 [01:04<00:49,  1.09s/it]"
     ]
    },
    {
     "name": "stdout",
     "output_type": "stream",
     "text": [
      "0.9249043367346939\n",
      "0.7467741935483871\n"
     ]
    },
    {
     "name": "stderr",
     "output_type": "stream",
     "text": [
      " 57%|███████████████████████████████▌                       | 59/103 [01:05<00:47,  1.08s/it]"
     ]
    },
    {
     "name": "stdout",
     "output_type": "stream",
     "text": [
      "0.9685905612244898\n",
      "0.55125284738041\n"
     ]
    },
    {
     "name": "stderr",
     "output_type": "stream",
     "text": [
      " 58%|████████████████████████████████                       | 60/103 [01:06<00:48,  1.13s/it]"
     ]
    },
    {
     "name": "stdout",
     "output_type": "stream",
     "text": [
      "0.9079241071428571\n",
      "0.6695278969957081\n"
     ]
    },
    {
     "name": "stderr",
     "output_type": "stream",
     "text": [
      " 59%|████████████████████████████████▌                      | 61/103 [01:07<00:46,  1.12s/it]"
     ]
    },
    {
     "name": "stdout",
     "output_type": "stream",
     "text": [
      "0.4945790816326531\n",
      "0.21124657875093306\n"
     ]
    },
    {
     "name": "stderr",
     "output_type": "stream",
     "text": [
      " 60%|█████████████████████████████████                      | 62/103 [01:08<00:46,  1.13s/it]"
     ]
    },
    {
     "name": "stdout",
     "output_type": "stream",
     "text": [
      "0.9049744897959183\n",
      "0.848730964467005\n"
     ]
    },
    {
     "name": "stderr",
     "output_type": "stream",
     "text": [
      " 61%|█████████████████████████████████▋                     | 63/103 [01:09<00:42,  1.07s/it]"
     ]
    },
    {
     "name": "stdout",
     "output_type": "stream",
     "text": [
      "0.9174107142857143\n",
      "0.8748792270531401\n"
     ]
    },
    {
     "name": "stderr",
     "output_type": "stream",
     "text": [
      " 62%|██████████████████████████████████▏                    | 64/103 [01:10<00:40,  1.03s/it]"
     ]
    },
    {
     "name": "stdout",
     "output_type": "stream",
     "text": [
      "0.8772321428571429\n",
      "0.7006220839813375\n"
     ]
    },
    {
     "name": "stderr",
     "output_type": "stream",
     "text": [
      " 63%|██████████████████████████████████▋                    | 65/103 [01:11<00:42,  1.11s/it]"
     ]
    },
    {
     "name": "stdout",
     "output_type": "stream",
     "text": [
      "0.6565688775510204\n",
      "0.30403877221324715\n"
     ]
    },
    {
     "name": "stderr",
     "output_type": "stream",
     "text": [
      " 64%|███████████████████████████████████▏                   | 66/103 [01:12<00:40,  1.10s/it]"
     ]
    },
    {
     "name": "stdout",
     "output_type": "stream",
     "text": [
      "0.91015625\n",
      "0.8722656692734897\n"
     ]
    },
    {
     "name": "stderr",
     "output_type": "stream",
     "text": [
      " 65%|███████████████████████████████████▊                   | 67/103 [01:13<00:38,  1.08s/it]"
     ]
    },
    {
     "name": "stdout",
     "output_type": "stream",
     "text": [
      "0.9068080357142857\n",
      "0.8711845730027549\n"
     ]
    },
    {
     "name": "stderr",
     "output_type": "stream",
     "text": [
      " 66%|████████████████████████████████████▎                  | 68/103 [01:14<00:35,  1.01s/it]"
     ]
    },
    {
     "name": "stdout",
     "output_type": "stream",
     "text": [
      "0.9244260204081632\n",
      "0.8375599725839616\n"
     ]
    },
    {
     "name": "stderr",
     "output_type": "stream",
     "text": [
      " 67%|████████████████████████████████████▊                  | 69/103 [01:15<00:35,  1.05s/it]"
     ]
    },
    {
     "name": "stdout",
     "output_type": "stream",
     "text": [
      "0.9009088010204082\n",
      "0.8865772424491286\n"
     ]
    },
    {
     "name": "stderr",
     "output_type": "stream",
     "text": [
      " 68%|█████████████████████████████████████▍                 | 70/103 [01:17<00:36,  1.11s/it]"
     ]
    },
    {
     "name": "stdout",
     "output_type": "stream",
     "text": [
      "0.8736447704081632\n",
      "0.8854023570240763\n"
     ]
    },
    {
     "name": "stderr",
     "output_type": "stream",
     "text": [
      " 69%|█████████████████████████████████████▉                 | 71/103 [01:18<00:38,  1.19s/it]"
     ]
    },
    {
     "name": "stdout",
     "output_type": "stream",
     "text": [
      "0.9300063775510204\n",
      "0.9178364214860565\n"
     ]
    },
    {
     "name": "stderr",
     "output_type": "stream",
     "text": [
      " 70%|██████████████████████████████████████▍                | 72/103 [01:19<00:36,  1.18s/it]"
     ]
    },
    {
     "name": "stdout",
     "output_type": "stream",
     "text": [
      "0.9186065051020408\n",
      "0.8268023748939779\n"
     ]
    },
    {
     "name": "stderr",
     "output_type": "stream",
     "text": [
      " 71%|██████████████████████████████████████▉                | 73/103 [01:20<00:33,  1.12s/it]"
     ]
    },
    {
     "name": "stdout",
     "output_type": "stream",
     "text": [
      "0.5031090561224489\n",
      "0.0904713264263826\n"
     ]
    },
    {
     "name": "stderr",
     "output_type": "stream",
     "text": [
      " 72%|███████████████████████████████████████▌               | 74/103 [01:21<00:32,  1.13s/it]"
     ]
    },
    {
     "name": "stdout",
     "output_type": "stream",
     "text": [
      "0.8841677295918368\n",
      "0.7493531136794894\n"
     ]
    },
    {
     "name": "stderr",
     "output_type": "stream",
     "text": [
      " 73%|████████████████████████████████████████               | 75/103 [01:22<00:30,  1.07s/it]"
     ]
    },
    {
     "name": "stdout",
     "output_type": "stream",
     "text": [
      "0.8237404336734694\n",
      "0.8233320015980823\n"
     ]
    },
    {
     "name": "stderr",
     "output_type": "stream",
     "text": [
      " 74%|████████████████████████████████████████▌              | 76/103 [01:24<00:30,  1.13s/it]"
     ]
    },
    {
     "name": "stdout",
     "output_type": "stream",
     "text": [
      "0.8487723214285714\n",
      "0.8625661088169239\n"
     ]
    },
    {
     "name": "stderr",
     "output_type": "stream",
     "text": [
      " 75%|█████████████████████████████████████████              | 77/103 [01:25<00:30,  1.18s/it]"
     ]
    },
    {
     "name": "stdout",
     "output_type": "stream",
     "text": [
      "0.8853635204081632\n",
      "0.6449382716049382\n"
     ]
    },
    {
     "name": "stderr",
     "output_type": "stream",
     "text": [
      " 76%|█████████████████████████████████████████▋             | 78/103 [01:26<00:26,  1.08s/it]"
     ]
    },
    {
     "name": "stdout",
     "output_type": "stream",
     "text": [
      "0.9022640306122449\n",
      "0.8842959607399018\n"
     ]
    },
    {
     "name": "stderr",
     "output_type": "stream",
     "text": [
      " 77%|██████████████████████████████████████████▏            | 79/103 [01:27<00:25,  1.07s/it]"
     ]
    },
    {
     "name": "stdout",
     "output_type": "stream",
     "text": [
      "0.9507334183673469\n",
      "0.8506524891251812\n"
     ]
    },
    {
     "name": "stderr",
     "output_type": "stream",
     "text": [
      " 78%|██████████████████████████████████████████▋            | 80/103 [01:28<00:24,  1.06s/it]"
     ]
    },
    {
     "name": "stdout",
     "output_type": "stream",
     "text": [
      "0.7691326530612245\n",
      "0.8259615384615384\n"
     ]
    },
    {
     "name": "stderr",
     "output_type": "stream",
     "text": [
      " 79%|███████████████████████████████████████████▎           | 81/103 [01:29<00:23,  1.09s/it]"
     ]
    },
    {
     "name": "stdout",
     "output_type": "stream",
     "text": [
      "0.8014190051020408\n",
      "0.683602184681824\n"
     ]
    },
    {
     "name": "stderr",
     "output_type": "stream",
     "text": [
      " 80%|███████████████████████████████████████████▊           | 82/103 [01:30<00:23,  1.11s/it]"
     ]
    },
    {
     "name": "stdout",
     "output_type": "stream",
     "text": [
      "0.8992346938775511\n",
      "0.8854657484595868\n"
     ]
    },
    {
     "name": "stderr",
     "output_type": "stream",
     "text": [
      " 81%|████████████████████████████████████████████▎          | 83/103 [01:31<00:23,  1.15s/it]"
     ]
    },
    {
     "name": "stdout",
     "output_type": "stream",
     "text": [
      "0.9135044642857143\n",
      "0.8205721845543245\n"
     ]
    },
    {
     "name": "stderr",
     "output_type": "stream",
     "text": [
      " 82%|████████████████████████████████████████████▊          | 84/103 [01:33<00:22,  1.19s/it]"
     ]
    },
    {
     "name": "stdout",
     "output_type": "stream",
     "text": [
      "0.9332748724489796\n",
      "0.9290738073044658\n"
     ]
    },
    {
     "name": "stderr",
     "output_type": "stream",
     "text": [
      " 83%|█████████████████████████████████████████████▍         | 85/103 [01:34<00:20,  1.16s/it]"
     ]
    },
    {
     "name": "stdout",
     "output_type": "stream",
     "text": [
      "0.9347098214285714\n",
      "0.9424495818986719\n"
     ]
    },
    {
     "name": "stderr",
     "output_type": "stream",
     "text": [
      " 83%|█████████████████████████████████████████████▉         | 86/103 [01:35<00:19,  1.12s/it]"
     ]
    },
    {
     "name": "stdout",
     "output_type": "stream",
     "text": [
      "0.6746651785714286\n",
      "0.5596201575482896\n"
     ]
    },
    {
     "name": "stderr",
     "output_type": "stream",
     "text": [
      " 84%|██████████████████████████████████████████████▍        | 87/103 [01:36<00:17,  1.10s/it]"
     ]
    },
    {
     "name": "stdout",
     "output_type": "stream",
     "text": [
      "0.8559470663265306\n",
      "0.82386197485135\n"
     ]
    },
    {
     "name": "stderr",
     "output_type": "stream",
     "text": [
      " 85%|██████████████████████████████████████████████▉        | 88/103 [01:37<00:17,  1.15s/it]"
     ]
    },
    {
     "name": "stdout",
     "output_type": "stream",
     "text": [
      "0.9373405612244898\n",
      "0.9305776364599894\n"
     ]
    },
    {
     "name": "stderr",
     "output_type": "stream",
     "text": [
      " 86%|███████████████████████████████████████████████▌       | 89/103 [01:38<00:15,  1.10s/it]"
     ]
    },
    {
     "name": "stdout",
     "output_type": "stream",
     "text": [
      "0.8470184948979592\n",
      "0.7031709203402939\n"
     ]
    },
    {
     "name": "stderr",
     "output_type": "stream",
     "text": [
      " 87%|████████████████████████████████████████████████       | 90/103 [01:39<00:14,  1.08s/it]"
     ]
    },
    {
     "name": "stdout",
     "output_type": "stream",
     "text": [
      "0.9211575255102041\n",
      "0.8686063504716355\n"
     ]
    },
    {
     "name": "stderr",
     "output_type": "stream",
     "text": [
      " 88%|████████████████████████████████████████████████▌      | 91/103 [01:40<00:13,  1.10s/it]"
     ]
    },
    {
     "name": "stdout",
     "output_type": "stream",
     "text": [
      "0.45487882653061223\n",
      "0.30592773041006904\n"
     ]
    },
    {
     "name": "stderr",
     "output_type": "stream",
     "text": [
      " 89%|█████████████████████████████████████████████████▏     | 92/103 [01:41<00:12,  1.12s/it]"
     ]
    },
    {
     "name": "stdout",
     "output_type": "stream",
     "text": [
      "0.818000637755102\n",
      "0.8572143348552129\n"
     ]
    },
    {
     "name": "stderr",
     "output_type": "stream",
     "text": [
      " 90%|█████████████████████████████████████████████████▋     | 93/103 [01:42<00:11,  1.13s/it]"
     ]
    },
    {
     "name": "stdout",
     "output_type": "stream",
     "text": [
      "0.8859215561224489\n",
      "0.8835733463509885\n"
     ]
    },
    {
     "name": "stderr",
     "output_type": "stream",
     "text": [
      " 91%|██████████████████████████████████████████████████▏    | 94/103 [01:44<00:10,  1.14s/it]"
     ]
    },
    {
     "name": "stdout",
     "output_type": "stream",
     "text": [
      "0.9520886479591837\n",
      "0.6703236423477784\n"
     ]
    },
    {
     "name": "stderr",
     "output_type": "stream",
     "text": [
      " 92%|██████████████████████████████████████████████████▋    | 95/103 [01:45<00:08,  1.08s/it]"
     ]
    },
    {
     "name": "stdout",
     "output_type": "stream",
     "text": [
      "0.8486926020408163\n",
      "0.8376667807047554\n"
     ]
    },
    {
     "name": "stderr",
     "output_type": "stream",
     "text": [
      " 93%|███████████████████████████████████████████████████▎   | 96/103 [01:46<00:08,  1.16s/it]"
     ]
    },
    {
     "name": "stdout",
     "output_type": "stream",
     "text": [
      "0.5554846938775511\n",
      "0.055235513385293124\n"
     ]
    },
    {
     "name": "stderr",
     "output_type": "stream",
     "text": [
      " 94%|███████████████████████████████████████████████████▊   | 97/103 [01:47<00:07,  1.23s/it]"
     ]
    },
    {
     "name": "stdout",
     "output_type": "stream",
     "text": [
      "0.9043367346938775\n",
      "0.8704383502483265\n"
     ]
    },
    {
     "name": "stderr",
     "output_type": "stream",
     "text": [
      " 95%|████████████████████████████████████████████████████▎  | 98/103 [01:49<00:06,  1.21s/it]"
     ]
    },
    {
     "name": "stdout",
     "output_type": "stream",
     "text": [
      "0.5604272959183674\n",
      "0.33821411425828135\n"
     ]
    },
    {
     "name": "stderr",
     "output_type": "stream",
     "text": [
      " 96%|████████████████████████████████████████████████████▊  | 99/103 [01:50<00:05,  1.26s/it]"
     ]
    },
    {
     "name": "stdout",
     "output_type": "stream",
     "text": [
      "0.9345503826530612\n",
      "0.9451386568660207\n"
     ]
    },
    {
     "name": "stderr",
     "output_type": "stream",
     "text": [
      " 97%|████████████████████████████████████████████████████▍ | 100/103 [01:51<00:03,  1.16s/it]"
     ]
    },
    {
     "name": "stdout",
     "output_type": "stream",
     "text": [
      "0.9311224489795918\n",
      "0.9124620060790274\n"
     ]
    },
    {
     "name": "stderr",
     "output_type": "stream",
     "text": [
      " 98%|████████████████████████████████████████████████████▉ | 101/103 [01:52<00:02,  1.14s/it]"
     ]
    },
    {
     "name": "stdout",
     "output_type": "stream",
     "text": [
      "0.9245057397959183\n",
      "0.6619064619778651\n"
     ]
    },
    {
     "name": "stderr",
     "output_type": "stream",
     "text": [
      " 99%|█████████████████████████████████████████████████████▍| 102/103 [01:53<00:01,  1.21s/it]"
     ]
    },
    {
     "name": "stdout",
     "output_type": "stream",
     "text": [
      "0.9215561224489796\n",
      "0.4252336448598131\n"
     ]
    },
    {
     "name": "stderr",
     "output_type": "stream",
     "text": [
      "100%|██████████████████████████████████████████████████████| 103/103 [01:54<00:00,  1.11s/it]"
     ]
    },
    {
     "name": "stdout",
     "output_type": "stream",
     "text": [
      "0.9209980867346939\n",
      "0.934772592641348\n",
      "0.8734806877848227\n",
      "0.7651322515267687\n"
     ]
    },
    {
     "name": "stderr",
     "output_type": "stream",
     "text": [
      "\n"
     ]
    }
   ],
   "source": [
    "# valid_accuracy_list = []\n",
    "# valid_f1_score_list = []\n",
    "\n",
    "# with torch.no_grad():\n",
    "    \n",
    "#     features_extractor.eval()\n",
    "#     for bands, label in tqdm(val_loader):\n",
    "#         features = features_extractor(bands).squeeze(0)\n",
    "#         features = features[:112, :112, :]\n",
    "#         features = features.reshape(-1, features.shape[-1])[order, :]        \n",
    "#         label = label.squeeze(0)[:112,:112].reshape(-1)[order]\n",
    "#         # features = features_extractor(bands).squeeze(0)\n",
    "#         # features = features.reshape(-1, features.shape[-1])[order, :]\n",
    "#         # label = label.squeeze(0).reshape(-1)[order]\n",
    "\n",
    "        \n",
    "#         features_i, features_j = features[edge_i], features[edge_j]\n",
    "#         distances = ((features_i - features_j) ** 2).sum(dim=1)\n",
    "#         weights = modified_sigmoid(distances, d_star, scale=1)\n",
    "\n",
    "#         coo_mat = create_coo_sparse_matrix(edges, weights.cpu().numpy())\n",
    "#         sparse_adjacency = coo_mat + coo_mat.T\n",
    "\n",
    "#         degree = sparse_adjacency.sum(axis=1).A1  # Compute degree vector\n",
    "#         D = diags(degree)                         # Degree matrix\n",
    "#         L = D - sparse_adjacency \n",
    "\n",
    "#         _, eigen_vector = eigsh(L, k=1, which='SA', tol=1e-7)\n",
    "#         pred = np.sign(eigen_vector).flatten()\n",
    "#         pred = correct_pred_sign(pred, features, positive_center, negative_center)\n",
    "        \n",
    "#         y = label.cpu().numpy()\n",
    "        \n",
    "#         # valid_accuracy_list.append(max(np.sum(y == -1 * pred) / len(pred),\n",
    "#         #            np.sum(y == pred) / len(pred)))\n",
    "\n",
    "#         valid_accuracy_list.append(np.sum(y == pred) / len(pred))\n",
    "#         valid_f1_score_list.append(f1_score(y, pred, pos_label=1))\n",
    "\n",
    "#         print(valid_accuracy_list[-1])\n",
    "#         print(valid_f1_score_list[-1])\n",
    "\n",
    "\n",
    "# print(np.mean(valid_accuracy_list))\n",
    "# print(np.mean(valid_f1_score_list))"
   ]
  },
  {
   "cell_type": "code",
   "execution_count": 20,
   "id": "23d92a8c-0ef2-4e44-8c9b-a9c7fd982234",
   "metadata": {},
   "outputs": [
    {
     "name": "stderr",
     "output_type": "stream",
     "text": [
      "  0%|                                     | 0/39 [00:00<?, ?it/s]"
     ]
    },
    {
     "name": "stdout",
     "output_type": "stream",
     "text": [
      "Quadrant (0,0) accuracy: 0.5518973214285714 f1_score: 0.6875660052248347\n",
      "Quadrant (0,1) accuracy: 0.7136479591836735 f1_score: 0.8133444190397007\n",
      "Quadrant (1,0) accuracy: 0.5305325255102041 f1_score: 0.6654167376853588\n"
     ]
    },
    {
     "name": "stderr",
     "output_type": "stream",
     "text": [
      "  3%|▋                            | 1/39 [00:04<02:44,  4.32s/it]"
     ]
    },
    {
     "name": "stdout",
     "output_type": "stream",
     "text": [
      "Quadrant (1,1) accuracy: 0.5935905612244898 f1_score: 0.7226936466492603\n",
      "Quadrant (0,0) accuracy: 0.5153061224489796 f1_score: 0.6244131455399061\n",
      "Quadrant (0,1) accuracy: 0.5463966836734694 f1_score: 0.6931952981775046\n",
      "Quadrant (1,0) accuracy: 0.5201690051020408 f1_score: 0.4997090848641011\n"
     ]
    },
    {
     "name": "stderr",
     "output_type": "stream",
     "text": [
      "  5%|█▍                           | 2/39 [00:09<02:48,  4.56s/it]"
     ]
    },
    {
     "name": "stdout",
     "output_type": "stream",
     "text": [
      "Quadrant (1,1) accuracy: 0.5719866071428571 f1_score: 0.6255666364460563\n",
      "Quadrant (0,0) accuracy: 0.4216358418367347 f1_score: 0.540095087163233\n",
      "Quadrant (0,1) accuracy: 0.5052614795918368 f1_score: 0.6420166128287955\n",
      "Quadrant (1,0) accuracy: 0.6233258928571429 f1_score: 0.7173535921517019\n"
     ]
    },
    {
     "name": "stderr",
     "output_type": "stream",
     "text": [
      "  8%|██▏                          | 3/39 [00:13<02:42,  4.51s/it]"
     ]
    },
    {
     "name": "stdout",
     "output_type": "stream",
     "text": [
      "Quadrant (1,1) accuracy: 0.6300223214285714 f1_score: 0.7303782025213501\n",
      "Quadrant (0,0) accuracy: 0.6052295918367347 f1_score: 0.7207308820212046\n",
      "Quadrant (0,1) accuracy: 0.6631855867346939 f1_score: 0.7676656585097608\n",
      "Quadrant (1,0) accuracy: 0.4658801020408163 f1_score: 0.5488823054134123\n"
     ]
    },
    {
     "name": "stderr",
     "output_type": "stream",
     "text": [
      " 10%|██▉                          | 4/39 [00:18<02:38,  4.54s/it]"
     ]
    },
    {
     "name": "stdout",
     "output_type": "stream",
     "text": [
      "Quadrant (1,1) accuracy: 0.5248724489795918 f1_score: 0.6047221116859\n",
      "Quadrant (0,0) accuracy: 0.7660235969387755 f1_score: 0.8125678523532792\n",
      "Quadrant (0,1) accuracy: 0.7464923469387755 f1_score: 0.7872340425531915\n",
      "Quadrant (1,0) accuracy: 0.7823660714285714 f1_score: 0.8338607594936709\n"
     ]
    },
    {
     "name": "stderr",
     "output_type": "stream",
     "text": [
      " 13%|███▋                         | 5/39 [00:22<02:28,  4.38s/it]"
     ]
    },
    {
     "name": "stdout",
     "output_type": "stream",
     "text": [
      "Quadrant (1,1) accuracy: 0.7712850765306123 f1_score: 0.8113864966142923\n",
      "Quadrant (0,0) accuracy: 0.7378029336734694 f1_score: 0.7139751282720237\n",
      "Quadrant (0,1) accuracy: 0.7880261479591837 f1_score: 0.7263558711536482\n",
      "Quadrant (1,0) accuracy: 0.7708067602040817 f1_score: 0.7484469332400036\n"
     ]
    },
    {
     "name": "stderr",
     "output_type": "stream",
     "text": [
      " 15%|████▍                        | 6/39 [00:26<02:23,  4.35s/it]"
     ]
    },
    {
     "name": "stdout",
     "output_type": "stream",
     "text": [
      "Quadrant (1,1) accuracy: 0.6650191326530612 f1_score: 0.7356567689984902\n",
      "Quadrant (0,0) accuracy: 0.6878985969387755 f1_score: 0.7140039447731755\n",
      "Quadrant (0,1) accuracy: 0.5498246173469388 f1_score: 0.4129327372907787\n",
      "Quadrant (1,0) accuracy: 0.7532684948979592 f1_score: 0.8048426760829813\n"
     ]
    },
    {
     "name": "stderr",
     "output_type": "stream",
     "text": [
      " 18%|█████▏                       | 7/39 [00:30<02:17,  4.29s/it]"
     ]
    },
    {
     "name": "stdout",
     "output_type": "stream",
     "text": [
      "Quadrant (1,1) accuracy: 0.6842315051020408 f1_score: 0.6972869698127627\n",
      "Quadrant (0,0) accuracy: 0.5672034438775511 f1_score: 0.6797239100937997\n",
      "Quadrant (0,1) accuracy: 0.7588488520408163 f1_score: 0.7393364928909952\n",
      "Quadrant (1,0) accuracy: 0.5000797193877551 f1_score: 0.6208814461036213\n"
     ]
    },
    {
     "name": "stderr",
     "output_type": "stream",
     "text": [
      " 21%|█████▉                       | 8/39 [00:34<02:13,  4.30s/it]"
     ]
    },
    {
     "name": "stdout",
     "output_type": "stream",
     "text": [
      "Quadrant (1,1) accuracy: 0.7737563775510204 f1_score: 0.8657902203726473\n",
      "Quadrant (0,0) accuracy: 0.5690369897959183 f1_score: 0.6940230925967852\n",
      "Quadrant (0,1) accuracy: 0.673469387755102 f1_score: 0.7081373806470002\n",
      "Quadrant (1,0) accuracy: 0.4694674744897959 f1_score: 0.5700071073205402\n"
     ]
    },
    {
     "name": "stderr",
     "output_type": "stream",
     "text": [
      " 23%|██████▋                      | 9/39 [00:39<02:13,  4.46s/it]"
     ]
    },
    {
     "name": "stdout",
     "output_type": "stream",
     "text": [
      "Quadrant (1,1) accuracy: 0.5549266581632653 f1_score: 0.6852342560748718\n",
      "Quadrant (0,0) accuracy: 0.4338329081632653 f1_score: 0.5645616186388719\n",
      "Quadrant (0,1) accuracy: 0.5384247448979592 f1_score: 0.6774732620320856\n",
      "Quadrant (1,0) accuracy: 0.5082908163265306 f1_score: 0.5558755760368663\n"
     ]
    },
    {
     "name": "stderr",
     "output_type": "stream",
     "text": [
      " 26%|███████▏                    | 10/39 [00:44<02:10,  4.51s/it]"
     ]
    },
    {
     "name": "stdout",
     "output_type": "stream",
     "text": [
      "Quadrant (1,1) accuracy: 0.5577965561224489 f1_score: 0.704112658025284\n",
      "Quadrant (0,0) accuracy: 0.7315051020408163 f1_score: 0.7567528528094757\n",
      "Quadrant (0,1) accuracy: 0.7506377551020408 f1_score: 0.8009924926835476\n",
      "Quadrant (1,0) accuracy: 0.7684151785714286 f1_score: 0.6652840188961862\n"
     ]
    },
    {
     "name": "stderr",
     "output_type": "stream",
     "text": [
      " 28%|███████▉                    | 11/39 [00:48<02:05,  4.48s/it]"
     ]
    },
    {
     "name": "stdout",
     "output_type": "stream",
     "text": [
      "Quadrant (1,1) accuracy: 0.7458545918367347 f1_score: 0.7039925719591458\n",
      "Quadrant (0,0) accuracy: 0.8100286989795918 f1_score: 0.8429447044091478\n",
      "Quadrant (0,1) accuracy: 0.7340561224489796 f1_score: 0.7679465776293823\n",
      "Quadrant (1,0) accuracy: 0.4955357142857143 f1_score: 0.49561613263191456\n"
     ]
    },
    {
     "name": "stderr",
     "output_type": "stream",
     "text": [
      " 31%|████████▌                   | 12/39 [00:53<02:00,  4.45s/it]"
     ]
    },
    {
     "name": "stdout",
     "output_type": "stream",
     "text": [
      "Quadrant (1,1) accuracy: 0.6414221938775511 f1_score: 0.7469052442043664\n",
      "Quadrant (0,0) accuracy: 0.5402582908163265 f1_score: 0.6462180234341451\n",
      "Quadrant (0,1) accuracy: 0.6214126275510204 f1_score: 0.5727395411605938\n",
      "Quadrant (1,0) accuracy: 0.6971460459183674 f1_score: 0.8123857968294731\n"
     ]
    },
    {
     "name": "stderr",
     "output_type": "stream",
     "text": [
      " 33%|█████████▎                  | 13/39 [00:57<01:55,  4.43s/it]"
     ]
    },
    {
     "name": "stdout",
     "output_type": "stream",
     "text": [
      "Quadrant (1,1) accuracy: 0.7729591836734694 f1_score: 0.7974683544303798\n",
      "Quadrant (0,0) accuracy: 0.7631536989795918 f1_score: 0.8304514067225932\n",
      "Quadrant (0,1) accuracy: 0.8167251275510204 f1_score: 0.7257545031611595\n",
      "Quadrant (1,0) accuracy: 0.7367665816326531 f1_score: 0.7537291169451074\n"
     ]
    },
    {
     "name": "stderr",
     "output_type": "stream",
     "text": [
      " 36%|██████████                  | 14/39 [01:01<01:46,  4.27s/it]"
     ]
    },
    {
     "name": "stdout",
     "output_type": "stream",
     "text": [
      "Quadrant (1,1) accuracy: 0.6096141581632653 f1_score: 0.4842548709847288\n",
      "Quadrant (0,0) accuracy: 0.5420121173469388 f1_score: 0.6479563698756051\n",
      "Quadrant (0,1) accuracy: 0.6464445153061225 f1_score: 0.7649085608269282\n",
      "Quadrant (1,0) accuracy: 0.5807557397959183 f1_score: 0.7121983253981284\n"
     ]
    },
    {
     "name": "stderr",
     "output_type": "stream",
     "text": [
      " 38%|██████████▊                 | 15/39 [01:05<01:43,  4.29s/it]"
     ]
    },
    {
     "name": "stdout",
     "output_type": "stream",
     "text": [
      "Quadrant (1,1) accuracy: 0.5790816326530612 f1_score: 0.4478142647981594\n",
      "Quadrant (0,0) accuracy: 0.6702008928571429 f1_score: 0.7723044746546315\n",
      "Quadrant (0,1) accuracy: 0.6326530612244898 f1_score: 0.7385976855003403\n",
      "Quadrant (1,0) accuracy: 0.6002072704081632 f1_score: 0.7126568498252449\n"
     ]
    },
    {
     "name": "stderr",
     "output_type": "stream",
     "text": [
      " 41%|███████████▍                | 16/39 [01:10<01:42,  4.46s/it]"
     ]
    },
    {
     "name": "stdout",
     "output_type": "stream",
     "text": [
      "Quadrant (1,1) accuracy: 0.6796875 f1_score: 0.7745736086175943\n",
      "Quadrant (0,0) accuracy: 0.5800382653061225 f1_score: 0.6868014268727705\n",
      "Quadrant (0,1) accuracy: 0.6501116071428571 f1_score: 0.6500279084602504\n",
      "Quadrant (1,0) accuracy: 0.6292251275510204 f1_score: 0.6755946153309619\n"
     ]
    },
    {
     "name": "stderr",
     "output_type": "stream",
     "text": [
      " 44%|████████████▏               | 17/39 [01:15<01:38,  4.48s/it]"
     ]
    },
    {
     "name": "stdout",
     "output_type": "stream",
     "text": [
      "Quadrant (1,1) accuracy: 0.6454081632653061 f1_score: 0.7235550031075202\n",
      "Quadrant (0,0) accuracy: 0.6169483418367347 f1_score: 0.7030100747883058\n",
      "Quadrant (0,1) accuracy: 0.5900829081632653 f1_score: 0.6719407936710476\n",
      "Quadrant (1,0) accuracy: 0.5760522959183674 f1_score: 0.7099694589877836\n"
     ]
    },
    {
     "name": "stderr",
     "output_type": "stream",
     "text": [
      " 46%|████████████▉               | 18/39 [01:19<01:35,  4.57s/it]"
     ]
    },
    {
     "name": "stdout",
     "output_type": "stream",
     "text": [
      "Quadrant (1,1) accuracy: 0.4534438775510204 f1_score: 0.49267426372650586\n",
      "Quadrant (0,0) accuracy: 0.6438934948979592 f1_score: 0.7601610738255034\n",
      "Quadrant (0,1) accuracy: 0.6419005102040817 f1_score: 0.6827235485238028\n",
      "Quadrant (1,0) accuracy: 0.5263073979591837 f1_score: 0.6650884905873069\n"
     ]
    },
    {
     "name": "stderr",
     "output_type": "stream",
     "text": [
      " 49%|█████████████▋              | 19/39 [01:24<01:30,  4.53s/it]"
     ]
    },
    {
     "name": "stdout",
     "output_type": "stream",
     "text": [
      "Quadrant (1,1) accuracy: 0.4616549744897959 f1_score: 0.48485773132962084\n",
      "Quadrant (0,0) accuracy: 0.5253507653061225 f1_score: 0.5432648051549555\n",
      "Quadrant (0,1) accuracy: 0.6529815051020408 f1_score: 0.7710032090062602\n",
      "Quadrant (1,0) accuracy: 0.6463647959183674 f1_score: 0.768427646690332\n"
     ]
    },
    {
     "name": "stderr",
     "output_type": "stream",
     "text": [
      " 51%|██████████████▎             | 20/39 [01:28<01:21,  4.31s/it]"
     ]
    },
    {
     "name": "stdout",
     "output_type": "stream",
     "text": [
      "Quadrant (1,1) accuracy: 0.596061862244898 f1_score: 0.70342405618964\n",
      "Quadrant (0,0) accuracy: 0.6807238520408163 f1_score: 0.7628634022144591\n",
      "Quadrant (0,1) accuracy: 0.7113360969387755 f1_score: 0.7807713265120785\n",
      "Quadrant (1,0) accuracy: 0.6616709183673469 f1_score: 0.6209360485887817\n"
     ]
    },
    {
     "name": "stderr",
     "output_type": "stream",
     "text": [
      " 54%|███████████████             | 21/39 [01:32<01:18,  4.35s/it]"
     ]
    },
    {
     "name": "stdout",
     "output_type": "stream",
     "text": [
      "Quadrant (1,1) accuracy: 0.6643016581632653 f1_score: 0.7349071451054454\n",
      "Quadrant (0,0) accuracy: 0.6732302295918368 f1_score: 0.7386341898871389\n",
      "Quadrant (0,1) accuracy: 0.7283163265306123 f1_score: 0.6067389799215325\n",
      "Quadrant (1,0) accuracy: 0.7781409438775511 f1_score: 0.7453097831060675\n"
     ]
    },
    {
     "name": "stderr",
     "output_type": "stream",
     "text": [
      " 56%|███████████████▊            | 22/39 [01:37<01:14,  4.40s/it]"
     ]
    },
    {
     "name": "stdout",
     "output_type": "stream",
     "text": [
      "Quadrant (1,1) accuracy: 0.6192602040816326 f1_score: 0.7159172019985724\n",
      "Quadrant (0,0) accuracy: 0.6419802295918368 f1_score: 0.6121426720787633\n",
      "Quadrant (0,1) accuracy: 0.603874362244898 f1_score: 0.6790673642059033\n",
      "Quadrant (1,0) accuracy: 0.6118463010204082 f1_score: 0.679692125518058\n"
     ]
    },
    {
     "name": "stderr",
     "output_type": "stream",
     "text": [
      " 59%|████████████████▌           | 23/39 [01:41<01:08,  4.25s/it]"
     ]
    },
    {
     "name": "stdout",
     "output_type": "stream",
     "text": [
      "Quadrant (1,1) accuracy: 0.5497448979591837 f1_score: 0.6348118453381612\n",
      "Quadrant (0,0) accuracy: 0.6173469387755102 f1_score: 0.7135012534320162\n",
      "Quadrant (0,1) accuracy: 0.5832270408163265 f1_score: 0.666751657317695\n",
      "Quadrant (1,0) accuracy: 0.6536192602040817 f1_score: 0.6876123373355382\n"
     ]
    },
    {
     "name": "stderr",
     "output_type": "stream",
     "text": [
      " 62%|█████████████████▏          | 24/39 [01:44<01:02,  4.16s/it]"
     ]
    },
    {
     "name": "stdout",
     "output_type": "stream",
     "text": [
      "Quadrant (1,1) accuracy: 0.6165497448979592 f1_score: 0.6718515486423796\n",
      "Quadrant (0,0) accuracy: 0.5642538265306123 f1_score: 0.6225659439303963\n",
      "Quadrant (0,1) accuracy: 0.38966836734693877 f1_score: 0.4703196347031963\n",
      "Quadrant (1,0) accuracy: 0.7488839285714286 f1_score: 0.6946490887941063\n"
     ]
    },
    {
     "name": "stderr",
     "output_type": "stream",
     "text": [
      " 64%|█████████████████▉          | 25/39 [01:49<00:59,  4.23s/it]"
     ]
    },
    {
     "name": "stdout",
     "output_type": "stream",
     "text": [
      "Quadrant (1,1) accuracy: 0.7221779336734694 f1_score: 0.8122204860175656\n",
      "Quadrant (0,0) accuracy: 0.6353635204081632 f1_score: 0.7354540196645459\n",
      "Quadrant (0,1) accuracy: 0.5582748724489796 f1_score: 0.662401754706635\n",
      "Quadrant (1,0) accuracy: 0.8826530612244898 f1_score: 0.7264957264957265\n"
     ]
    },
    {
     "name": "stderr",
     "output_type": "stream",
     "text": [
      " 67%|██████████████████▋         | 26/39 [01:53<00:53,  4.14s/it]"
     ]
    },
    {
     "name": "stdout",
     "output_type": "stream",
     "text": [
      "Quadrant (1,1) accuracy: 0.7853156887755102 f1_score: 0.7966472853583025\n",
      "Quadrant (0,0) accuracy: 0.5955835459183674 f1_score: 0.6147186147186147\n",
      "Quadrant (0,1) accuracy: 0.5975765306122449 f1_score: 0.6639147802929427\n",
      "Quadrant (1,0) accuracy: 0.6906887755102041 f1_score: 0.8029856809180461\n"
     ]
    },
    {
     "name": "stderr",
     "output_type": "stream",
     "text": [
      " 69%|███████████████████▍        | 27/39 [01:57<00:51,  4.26s/it]"
     ]
    },
    {
     "name": "stdout",
     "output_type": "stream",
     "text": [
      "Quadrant (1,1) accuracy: 0.6777742346938775 f1_score: 0.7829682130584192\n",
      "Quadrant (0,0) accuracy: 0.5853794642857143 f1_score: 0.6655950620459076\n",
      "Quadrant (0,1) accuracy: 0.6902104591836735 f1_score: 0.7173818181818182\n",
      "Quadrant (1,0) accuracy: 0.4971301020408163 f1_score: 0.6110014800197336\n"
     ]
    },
    {
     "name": "stderr",
     "output_type": "stream",
     "text": [
      " 72%|████████████████████        | 28/39 [02:02<00:46,  4.24s/it]"
     ]
    },
    {
     "name": "stdout",
     "output_type": "stream",
     "text": [
      "Quadrant (1,1) accuracy: 0.6690848214285714 f1_score: 0.7066638400113067\n",
      "Quadrant (0,0) accuracy: 0.6375159438775511 f1_score: 0.7527863861251564\n",
      "Quadrant (0,1) accuracy: 0.7035235969387755 f1_score: 0.7868890034955017\n",
      "Quadrant (1,0) accuracy: 0.6453284438775511 f1_score: 0.738278722277781\n"
     ]
    },
    {
     "name": "stderr",
     "output_type": "stream",
     "text": [
      " 74%|████████████████████▊       | 29/39 [02:06<00:42,  4.27s/it]"
     ]
    },
    {
     "name": "stdout",
     "output_type": "stream",
     "text": [
      "Quadrant (1,1) accuracy: 0.5625797193877551 f1_score: 0.6394164421370835\n",
      "Quadrant (0,0) accuracy: 0.7113360969387755 f1_score: 0.8010767455913861\n",
      "Quadrant (0,1) accuracy: 0.5717474489795918 f1_score: 0.7046728971962617\n",
      "Quadrant (1,0) accuracy: 0.6279496173469388 f1_score: 0.7192781954887218\n"
     ]
    },
    {
     "name": "stderr",
     "output_type": "stream",
     "text": [
      " 77%|█████████████████████▌      | 30/39 [02:10<00:38,  4.26s/it]"
     ]
    },
    {
     "name": "stdout",
     "output_type": "stream",
     "text": [
      "Quadrant (1,1) accuracy: 0.6587213010204082 f1_score: 0.7815927758787817\n",
      "Quadrant (0,0) accuracy: 0.5087691326530612 f1_score: 0.6190652818991098\n",
      "Quadrant (0,1) accuracy: 0.6512276785714286 f1_score: 0.7660803079719831\n",
      "Quadrant (1,0) accuracy: 0.5880102040816326 f1_score: 0.7158878504672898\n"
     ]
    },
    {
     "name": "stderr",
     "output_type": "stream",
     "text": [
      " 79%|██████████████████████▎     | 31/39 [02:15<00:34,  4.35s/it]"
     ]
    },
    {
     "name": "stdout",
     "output_type": "stream",
     "text": [
      "Quadrant (1,1) accuracy: 0.6978635204081632 f1_score: 0.7987468139337298\n",
      "Quadrant (0,0) accuracy: 0.6469228316326531 f1_score: 0.743914426134721\n",
      "Quadrant (0,1) accuracy: 0.6537786989795918 f1_score: 0.7432152781883758\n",
      "Quadrant (1,0) accuracy: 0.7169164540816326 f1_score: 0.782932942111376\n"
     ]
    },
    {
     "name": "stderr",
     "output_type": "stream",
     "text": [
      " 82%|██████████████████████▉     | 32/39 [02:19<00:30,  4.40s/it]"
     ]
    },
    {
     "name": "stdout",
     "output_type": "stream",
     "text": [
      "Quadrant (1,1) accuracy: 0.6124043367346939 f1_score: 0.7113854921049507\n",
      "Quadrant (0,0) accuracy: 0.7051977040816326 f1_score: 0.7333813987022351\n",
      "Quadrant (0,1) accuracy: 0.7053571428571429 f1_score: 0.655929994414448\n",
      "Quadrant (1,0) accuracy: 0.7130899234693877 f1_score: 0.8059942860223168\n"
     ]
    },
    {
     "name": "stderr",
     "output_type": "stream",
     "text": [
      " 85%|███████████████████████▋    | 33/39 [02:23<00:25,  4.30s/it]"
     ]
    },
    {
     "name": "stdout",
     "output_type": "stream",
     "text": [
      "Quadrant (1,1) accuracy: 0.7571747448979592 f1_score: 0.8396842105263158\n",
      "Quadrant (0,0) accuracy: 0.5575573979591837 f1_score: 0.5954220731885115\n",
      "Quadrant (0,1) accuracy: 0.6356026785714286 f1_score: 0.7269251448712587\n",
      "Quadrant (1,0) accuracy: 0.5968590561224489 f1_score: 0.6294966664224485\n"
     ]
    },
    {
     "name": "stderr",
     "output_type": "stream",
     "text": [
      " 87%|████████████████████████▍   | 34/39 [02:28<00:21,  4.40s/it]"
     ]
    },
    {
     "name": "stdout",
     "output_type": "stream",
     "text": [
      "Quadrant (1,1) accuracy: 0.5709502551020408 f1_score: 0.6946209714026328\n",
      "Quadrant (0,0) accuracy: 0.759406887755102 f1_score: 0.6815783920658367\n",
      "Quadrant (0,1) accuracy: 0.7605229591836735 f1_score: 0.8537060485049187\n",
      "Quadrant (1,0) accuracy: 0.7993463010204082 f1_score: 0.45765998707175176\n"
     ]
    },
    {
     "name": "stderr",
     "output_type": "stream",
     "text": [
      " 90%|█████████████████████████▏  | 35/39 [02:33<00:18,  4.59s/it]"
     ]
    },
    {
     "name": "stdout",
     "output_type": "stream",
     "text": [
      "Quadrant (1,1) accuracy: 0.6972257653061225 f1_score: 0.7875125881168177\n",
      "Quadrant (0,0) accuracy: 0.6919642857142857 f1_score: 0.7996889580093313\n",
      "Quadrant (0,1) accuracy: 0.6434151785714286 f1_score: 0.6836409929980903\n",
      "Quadrant (1,0) accuracy: 0.5531728316326531 f1_score: 0.6994799206476865\n"
     ]
    },
    {
     "name": "stderr",
     "output_type": "stream",
     "text": [
      " 92%|█████████████████████████▊  | 36/39 [02:38<00:13,  4.61s/it]"
     ]
    },
    {
     "name": "stdout",
     "output_type": "stream",
     "text": [
      "Quadrant (1,1) accuracy: 0.5590720663265306 f1_score: 0.6570347863830843\n",
      "Quadrant (0,0) accuracy: 0.5453603316326531 f1_score: 0.6365432413485438\n",
      "Quadrant (0,1) accuracy: 0.525031887755102 f1_score: 0.6244326777609682\n",
      "Quadrant (1,0) accuracy: 0.6931600765306123 f1_score: 0.7949278064894241\n"
     ]
    },
    {
     "name": "stderr",
     "output_type": "stream",
     "text": [
      " 95%|██████████████████████████▌ | 37/39 [02:42<00:08,  4.46s/it]"
     ]
    },
    {
     "name": "stdout",
     "output_type": "stream",
     "text": [
      "Quadrant (1,1) accuracy: 0.49449936224489793 f1_score: 0.621590976905174\n",
      "Quadrant (0,0) accuracy: 0.6701211734693877 f1_score: 0.7900131939510809\n",
      "Quadrant (0,1) accuracy: 0.7126116071428571 f1_score: 0.5444205737394161\n",
      "Quadrant (1,0) accuracy: 0.6914859693877551 f1_score: 0.8114218887048046\n"
     ]
    },
    {
     "name": "stderr",
     "output_type": "stream",
     "text": [
      " 97%|███████████████████████████▎| 38/39 [02:46<00:04,  4.36s/it]"
     ]
    },
    {
     "name": "stdout",
     "output_type": "stream",
     "text": [
      "Quadrant (1,1) accuracy: 0.796875 f1_score: 0.6808617234468938\n",
      "Quadrant (0,0) accuracy: 0.7178730867346939 f1_score: 0.7134180905336465\n",
      "Quadrant (0,1) accuracy: 0.7769451530612245 f1_score: 0.8617315675034591\n",
      "Quadrant (1,0) accuracy: 0.7443399234693877 f1_score: 0.8203864463735648\n"
     ]
    },
    {
     "name": "stderr",
     "output_type": "stream",
     "text": [
      "100%|████████████████████████████| 39/39 [02:50<00:00,  4.37s/it]"
     ]
    },
    {
     "name": "stdout",
     "output_type": "stream",
     "text": [
      "Quadrant (1,1) accuracy: 0.7193080357142857 f1_score: 0.7599372741528602\n",
      "Mean validation accuracy across all quadrants: 0.640171723737572\n",
      "Mean validation accuracy across all quadrants: 0.698965261752653\n"
     ]
    },
    {
     "name": "stderr",
     "output_type": "stream",
     "text": [
      "\n"
     ]
    }
   ],
   "source": [
    "valid_accuracy_list = []\n",
    "valid_f1_score_list = []\n",
    "\n",
    "with torch.no_grad():\n",
    "    features_extractor.eval()\n",
    "    for bands, label in tqdm(val_loader):\n",
    "        # Get the full features\n",
    "        features = features_extractor(bands).squeeze(0)\n",
    "        \n",
    "        # Process each 112x112 quadrant\n",
    "        for i in range(2):\n",
    "            for j in range(2):\n",
    "                # Extract the 112x112 quadrant\n",
    "                start_h = i * 112\n",
    "                start_w = j * 112\n",
    "                quadrant_features = features[start_h:start_h+112, start_w:start_w+112, :]\n",
    "                quadrant_label = label.squeeze(0)[start_h:start_h+112, start_w:start_w+112]\n",
    "                \n",
    "                # Reshape and reorder\n",
    "                quadrant_features = quadrant_features.reshape(-1, quadrant_features.shape[-1])[order, :]\n",
    "                quadrant_label = quadrant_label.reshape(-1)[order]\n",
    "                \n",
    "                # Calculate distances and weights\n",
    "                features_i, features_j = quadrant_features[edge_i], quadrant_features[edge_j]\n",
    "                distances = ((features_i - features_j) ** 2).sum(dim=1)\n",
    "                weights = modified_sigmoid(distances, d_star, scale=1)\n",
    "                \n",
    "                # Create sparse matrix and compute Laplacian\n",
    "                coo_mat = create_coo_sparse_matrix(edges, weights.cpu().numpy())\n",
    "                sparse_adjacency = coo_mat + coo_mat.T\n",
    "                \n",
    "                degree = sparse_adjacency.sum(axis=1).A1\n",
    "                D = diags(degree)\n",
    "                L = D - sparse_adjacency\n",
    "                \n",
    "                # Compute eigenvector and prediction\n",
    "                _, eigen_vector = eigsh(L, k=1, which='SA', tol=1e-7)\n",
    "                pred = np.sign(eigen_vector).flatten()\n",
    "                pred = correct_pred_sign(pred, quadrant_features, positive_center, negative_center)\n",
    "                y = quadrant_label.cpu().numpy()\n",
    "\n",
    "                valid_accuracy_list.append(np.sum(y == pred) / len(pred))\n",
    "                valid_f1_score_list.append(f1_score(y, pred, pos_label=1))\n",
    "\n",
    "                print(f\"Quadrant ({i},{j}) accuracy: {valid_accuracy_list[-1]} f1_score: {valid_f1_score_list[-1]}\")\n",
    "        \n",
    "print(f\"Mean validation accuracy across all quadrants: {np.mean(valid_accuracy_list)}\")\n",
    "print(f\"Mean validation accuracy across all quadrants: {np.mean(valid_f1_score_list)}\")"
   ]
  },
  {
   "cell_type": "code",
   "execution_count": null,
   "id": "85785efb-178d-42d8-bc22-428e80e7dc57",
   "metadata": {},
   "outputs": [],
   "source": [
    "torch.save(features_extractor.state_dict(), 'checkpoints/176_vs_all.pth')"
   ]
  },
  {
   "cell_type": "code",
   "execution_count": null,
   "id": "e714d0cf-7862-455b-aba2-145532a336f5",
   "metadata": {},
   "outputs": [],
   "source": []
  },
  {
   "cell_type": "code",
   "execution_count": null,
   "id": "0309b2ca-33da-454a-aec1-90739ac5e424",
   "metadata": {},
   "outputs": [],
   "source": []
  },
  {
   "cell_type": "code",
   "execution_count": 1,
   "id": "0ab5c1bc-3a2d-4d32-9f6a-2b40662603cb",
   "metadata": {},
   "outputs": [],
   "source": [
    "from model import CropClassifierTree\n",
    "from data_manager import setup_training_loader\n",
    "import numpy as np\n",
    "\n",
    "crop_order = [1,5,23,176]\n",
    "tree = CropClassifierTree(checkpoints_dir='./checkpoints/v2/', \n",
    "                   crop_order=crop_order, img_height=112,\n",
    "                   img_width=112, \n",
    "                   window_size=30)"
   ]
  },
  {
   "cell_type": "code",
   "execution_count": 2,
   "id": "c994be07-4be2-464e-93d7-91a74ebad405",
   "metadata": {},
   "outputs": [
    {
     "name": "stdout",
     "output_type": "stream",
     "text": [
      "Filtered 1074 patches to 511 good patches (47.58%)\n",
      "Dataset loaded with 511 patches\n",
      "Total pixels: 25639936\n",
      "Positive pixels (+1): 8439620\n",
      "Negative pixels (-1): 17200316\n",
      "tensor([-1.0900e-03, -1.7978e-01,  1.3035e-02, -9.2562e-04, -9.5947e-04,\n",
      "        -1.5155e-03, -2.6534e-01,  9.5881e-04, -9.5686e-02, -2.4155e-01,\n",
      "        -1.1748e-03,  1.2272e+00, -5.7897e-03,  9.0533e-01, -1.7814e-01,\n",
      "        -9.4095e-04, -1.0638e-04,  1.6480e-03], device='cuda:0') tensor([ 1.0752e-03,  1.1687e-01, -8.3943e-03,  7.2776e-04,  9.1017e-04,\n",
      "         9.8312e-04,  5.8288e-01, -8.5673e-04,  6.2077e-02,  1.4857e-01,\n",
      "         4.5573e-04, -1.4656e-01,  4.2365e-03, -1.2717e-01,  3.3735e-01,\n",
      "         9.5996e-04, -1.1210e-03, -9.9667e-04], device='cuda:0')\n",
      "Filtered 1074 patches to 677 good patches (63.04%)\n",
      "Dataset loaded with 677 patches\n",
      "Total pixels: 33969152\n",
      "Positive pixels (+1): 8803224\n",
      "Negative pixels (-1): 25165928\n",
      "tensor([ 1.3658e+00, -2.7564e-04,  4.4410e-05,  2.5298e-04,  2.9809e-04,\n",
      "         1.9175e-04,  4.3481e-01,  1.0300e-04,  3.6923e-01,  1.0982e+00,\n",
      "         6.2512e-01,  4.7170e-01,  4.8391e-04,  3.5383e-01,  3.1935e-01,\n",
      "         3.3415e-04,  3.5456e-05,  4.2216e-01], device='cuda:0') tensor([ 9.3620e-02, -2.6941e-05, -4.8716e-06,  2.7067e-05,  1.4267e-05,\n",
      "         1.1039e-05,  2.7041e-02, -6.2793e-06,  2.4233e-02,  8.6440e-02,\n",
      "         4.1272e-02,  3.0629e-02,  3.6089e-05,  2.0595e-02,  1.1636e-02,\n",
      "         2.8991e-05, -1.1477e-05,  2.2283e-02], device='cuda:0')\n",
      "Filtered 1074 patches to 308 good patches (28.68%)\n",
      "Dataset loaded with 308 patches\n",
      "Total pixels: 15454208\n",
      "Positive pixels (+1): 3156031\n",
      "Negative pixels (-1): 12298177\n",
      "tensor([ 0.7984, -0.1780, -0.0852,  0.2399, -0.1231, -0.0694, -0.1217, -0.0784,\n",
      "        -0.0506,  0.0388,  0.5175,  0.8209,  0.1728,  0.7659, -0.0279,  0.0138,\n",
      "        -0.1440,  0.6838], device='cuda:0') tensor([-1.5976e-02,  5.3517e-01,  3.8276e-03,  8.7173e-02, -5.8443e-02,\n",
      "        -3.4517e-02,  4.7802e-01,  1.8192e-03, -2.6726e-02,  2.8390e-01,\n",
      "         1.6127e-02,  4.5128e-04,  8.9817e-02, -3.5465e-03, -1.2324e-02,\n",
      "         1.3155e-02, -7.1639e-02,  1.9178e-02], device='cuda:0')\n",
      "Filtered 1074 patches to 702 good patches (65.36%)\n",
      "Dataset loaded with 702 patches\n",
      "Total pixels: 35223552\n",
      "Positive pixels (+1): 10910374\n",
      "Negative pixels (-1): 24313178\n",
      "tensor([ 0.0010,  0.9123,  0.9330,  0.4933,  1.0145, -0.0045,  0.3986, -0.0036,\n",
      "        -0.0054,  0.2521, -0.0014,  0.0019, -0.0086, -0.1921,  0.3413, -0.0052,\n",
      "        -0.0060,  0.3586], device='cuda:0') tensor([ 1.6287e-04,  1.9860e-01,  2.0686e-01,  1.0183e-01,  2.2510e-01,\n",
      "        -8.4232e-04,  7.2208e-02, -6.0606e-04, -9.9646e-04,  4.8027e-02,\n",
      "        -2.5500e-04,  3.3494e-04, -1.0497e-03, -3.6567e-02,  7.1678e-02,\n",
      "        -9.5319e-04, -9.5076e-04,  7.5750e-02], device='cuda:0')\n"
     ]
    }
   ],
   "source": [
    "        \n",
    "for crop_id in crop_order:\n",
    "                \n",
    "            \n",
    "    # Setup training loader for this specific crop\n",
    "    train_loader = setup_training_loader(\n",
    "        path_to_train_data='./training_data/train_patches.npy',\n",
    "        unchanged_crops=[1, 5, 23, 176],  # All unchanged crops\n",
    "        target_crops=[crop_id],           # Current crop is the target\n",
    "        train_batch_size=16,\n",
    "        crop_band_index=18,\n",
    "        device='cuda',\n",
    "        ignore_crops=None,\n",
    "        min_ratio=0.1,\n",
    "        max_ratio=0.9\n",
    "        )\n",
    "            \n",
    "            # Compute feature centers for this classifier\n",
    "    classifier = tree.classifiers[crop_id]\n",
    "    positive_center, negative_center = classifier.calculate_feature_centers(train_loader)\n",
    "    print(positive_center, negative_center)"
   ]
  },
  {
   "cell_type": "code",
   "execution_count": 3,
   "id": "d120893b-4fc9-4220-a601-f496e93ed962",
   "metadata": {},
   "outputs": [],
   "source": [
    "from data_manager import create_modified_crop_labels\n",
    "from torch.utils.data import DataLoader\n",
    "\n",
    "# Load validation data\n",
    "valid_data = np.load('./training_data/val_patches.npy')\n",
    "    \n",
    "# Modify crop labels\n",
    "valid_data = create_modified_crop_labels(\n",
    "    valid_data,\n",
    "    unchanged_crops=[1,5,23,176],\n",
    "    other_value=-1,\n",
    "    crop_band_index=18\n",
    ")\n",
    "\n",
    "valid_loader = DataLoader(valid_data, batch_size=1)  # Always batch_size=1 for validation\n"
   ]
  },
  {
   "cell_type": "code",
   "execution_count": 4,
   "id": "2ae726f7-a570-4518-a695-e5ea09b7eb00",
   "metadata": {},
   "outputs": [
    {
     "name": "stderr",
     "output_type": "stream",
     "text": [
      "100%|██████████████████████████████████████████████████████████████████| 231/231 [1:11:23<00:00, 18.54s/it]\n"
     ]
    }
   ],
   "source": [
    "from tqdm import tqdm\n",
    "import torch\n",
    "\n",
    "accuracy = []\n",
    "for bands_label in tqdm(valid_loader):\n",
    "\n",
    "\n",
    "    bands = bands_label[:,:,:,:-1][0] * 0.0001\n",
    "    bands = torch.clamp(bands, min=0.0, max=1.0)\n",
    "    bands = bands.to('cuda')\n",
    "    label = bands_label[0,:,:, -1]\n",
    "\n",
    "    # if (label == -1).sum() / label.numel() > 0.1:\n",
    "    #     print((label == -1).sum() / label.numel())\n",
    "    #     continue\n",
    "    \n",
    "    for i in range(2):\n",
    "            for j in range(2):\n",
    "                # Extract the 112x112 quadrant\n",
    "                start_h = i * 112\n",
    "                start_w = j * 112\n",
    "                quadrant_bands = bands[start_h:start_h+112, start_w:start_w+112, :]\n",
    "                quadrant_label = label[start_h:start_h+112, start_w:start_w+112]\n",
    "                \n",
    "                binary_preds = tree.run_binary_classifiers(quadrant_bands)\n",
    "                quadrant_pred = tree.combine_binary_predictions(binary_preds)\n",
    "\n",
    "                accuracy.append(\n",
    "                    (quadrant_pred == quadrant_label).sum() / quadrant_pred.size\n",
    "                )\n",
    "            "
   ]
  },
  {
   "cell_type": "code",
   "execution_count": 5,
   "id": "2139ce79-b6c3-4f4c-892f-0921fd46258f",
   "metadata": {},
   "outputs": [
    {
     "data": {
      "text/plain": [
       "np.float32(0.69405997)"
      ]
     },
     "execution_count": 5,
     "metadata": {},
     "output_type": "execute_result"
    }
   ],
   "source": [
    "np.mean(accuracy)"
   ]
  },
  {
   "cell_type": "code",
   "execution_count": 6,
   "id": "e0e76410-e183-47de-be7d-e909097d716f",
   "metadata": {},
   "outputs": [
    {
     "data": {
      "text/plain": [
       "np.float32(0.6907338)"
      ]
     },
     "execution_count": 6,
     "metadata": {},
     "output_type": "execute_result"
    }
   ],
   "source": [
    "np.mean(accuracy)"
   ]
  },
  {
   "cell_type": "code",
   "execution_count": null,
   "id": "4a08b627-5d81-4ab6-84b8-cb7f0df87355",
   "metadata": {},
   "outputs": [],
   "source": [
    "accuracy"
   ]
  },
  {
   "cell_type": "code",
   "execution_count": 10,
   "id": "2f25a24c-c319-424a-a121-83941ca6783d",
   "metadata": {},
   "outputs": [],
   "source": [
    "import matplotlib.pyplot as plt\n",
    "\n",
    "def plot_binary_prediction(prediction, title=None, save_path=None):\n",
    "    \"\"\"\n",
    "    Plot a single binary prediction map.\n",
    "    \n",
    "    Args:\n",
    "        prediction (numpy.ndarray): Binary prediction map with values -1 and 1\n",
    "        title (str, optional): Title for the plot\n",
    "        save_path (str, optional): Path to save the plot. If None, the plot will be displayed.\n",
    "    \"\"\"\n",
    "    plt.figure(figsize=(10, 10))\n",
    "    plt.imshow(prediction, cmap='RdYlBu', vmin=-1, vmax=1)\n",
    "    plt.colorbar(label='Prediction (-1 to 1)')\n",
    "    if title:\n",
    "        plt.title(title)\n",
    "    plt.axis('off')\n",
    "    \n",
    "    if save_path:\n",
    "        plt.savefig(save_path, bbox_inches='tight', dpi=300)\n",
    "        plt.close()\n",
    "    else:\n",
    "        plt.show()\n"
   ]
  },
  {
   "cell_type": "code",
   "execution_count": 11,
   "id": "6a2275d7-5d6b-47e1-987a-bfce6a7041ec",
   "metadata": {},
   "outputs": [],
   "source": [
    "def plot_ground_truth(labels, title=None, save_path=None):\n",
    "    \"\"\"\n",
    "    Plot ground truth labels with a custom colormap for specific crop IDs.\n",
    "    \n",
    "    Args:\n",
    "        labels (numpy.ndarray): Ground truth labels with values -1, 1, 5, 23, 176\n",
    "        title (str, optional): Title for the plot\n",
    "        save_path (str, optional): Path to save the plot. If None, the plot will be displayed.\n",
    "    \"\"\"\n",
    "    # Create a custom colormap\n",
    "    colors = {\n",
    "        -1: 'red',      # Background/Other\n",
    "        1: 'green',     # Corn\n",
    "        5: 'blue',      # Soybean\n",
    "        23: 'yellow',   # Spring Wheat\n",
    "        176: 'purple'   # Grassland/Pasture\n",
    "    }\n",
    "    \n",
    "    # Create a custom colormap\n",
    "    from matplotlib.colors import ListedColormap\n",
    "    # Create a mapping array for the colormap\n",
    "    unique_labels = sorted(colors.keys())\n",
    "    color_list = [colors[label] for label in unique_labels]\n",
    "    cmap = ListedColormap(color_list)\n",
    "    \n",
    "    plt.figure(figsize=(10, 10))\n",
    "    # Create a normalized colormap\n",
    "    from matplotlib.colors import BoundaryNorm\n",
    "    bounds = np.array(unique_labels + [max(unique_labels) + 1]) - 0.5\n",
    "    norm = BoundaryNorm(bounds, cmap.N)\n",
    "    \n",
    "    plt.imshow(labels, cmap=cmap, norm=norm)\n",
    "    \n",
    "    # Create custom legend\n",
    "    from matplotlib.patches import Patch\n",
    "    legend_elements = [Patch(facecolor=color, label=f'Crop {label}' if label != -1 else 'Background')\n",
    "                      for label, color in colors.items()]\n",
    "    plt.legend(handles=legend_elements, loc='upper right', bbox_to_anchor=(1.3, 1))\n",
    "    \n",
    "    if title:\n",
    "        plt.title(title)\n",
    "    plt.axis('off')\n",
    "    \n",
    "    if save_path:\n",
    "        plt.savefig(save_path, bbox_inches='tight', dpi=300)\n",
    "        plt.close()\n",
    "    else:\n",
    "        plt.show()\n"
   ]
  },
  {
   "cell_type": "code",
   "execution_count": 46,
   "id": "8703645e-a272-4756-bd07-2885c7d56fdc",
   "metadata": {},
   "outputs": [
    {
     "data": {
      "image/png": "[encoded data removed]",
      "text/plain": [
       "<Figure size 1000x1000 with 2 Axes>"
      ]
     },
     "metadata": {},
     "output_type": "display_data"
    }
   ],
   "source": [
    "plot_binary_prediction(preds[5])"
   ]
  },
  {
   "cell_type": "code",
   "execution_count": 49,
   "id": "a9c45e71-bdce-41c6-808a-c976cb34764e",
   "metadata": {},
   "outputs": [
    {
     "data": {
      "image/png": "[encoded data removed]",
      "text/plain": [
       "<Figure size 1000x1000 with 2 Axes>"
      ]
     },
     "metadata": {},
     "output_type": "display_data"
    }
   ],
   "source": [
    "plot_binary_prediction(preds[1])"
   ]
  },
  {
   "cell_type": "code",
   "execution_count": 12,
   "id": "7fb600b0-6ee5-401f-b5f0-6f0f1e3aae00",
   "metadata": {},
   "outputs": [
    {
     "data": {
      "image/png": "[encoded data removed]",
      "text/plain": [
       "<Figure size 1000x1000 with 1 Axes>"
      ]
     },
     "metadata": {},
     "output_type": "display_data"
    }
   ],
   "source": [
    "plot_ground_truth(quadrant_label)"
   ]
  },
  {
   "cell_type": "code",
   "execution_count": 13,
   "id": "257697f9-b0cd-4bd8-abc7-5868d7e2b945",
   "metadata": {},
   "outputs": [
    {
     "data": {
      "image/png": "[encoded data removed]",
      "text/plain": [
       "<Figure size 1000x1000 with 1 Axes>"
      ]
     },
     "metadata": {},
     "output_type": "display_data"
    }
   ],
   "source": [
    "plot_ground_truth(quadrant_pred)"
   ]
  },
  {
   "cell_type": "code",
   "execution_count": 37,
   "id": "d1a6f9d4-7211-4d33-a564-032ff0e70916",
   "metadata": {},
   "outputs": [
    {
     "data": {
      "text/plain": [
       "(tensor([ -1,   1,   5, 176], dtype=torch.int16),\n",
       " tensor([ 920, 6051, 7496,  417]))"
      ]
     },
     "execution_count": 37,
     "metadata": {},
     "output_type": "execute_result"
    }
   ],
   "source": [
    "import torch\n",
    "torch.unique(label, return_counts=True)"
   ]
  },
  {
   "cell_type": "code",
   "execution_count": null,
   "id": "602dc448-7ad9-4550-bb32-614a809c5580",
   "metadata": {},
   "outputs": [],
   "source": []
  },
  {
   "cell_type": "code",
   "execution_count": null,
   "id": "63e4e0f2-38a2-4c5f-a7ee-22745fcde6af",
   "metadata": {},
   "outputs": [],
   "source": []
  },
  {
   "cell_type": "code",
   "execution_count": null,
   "id": "061637fa-e9d5-4265-8438-1b2af386b5ef",
   "metadata": {},
   "outputs": [],
   "source": []
  },
  {
   "cell_type": "code",
   "execution_count": null,
   "id": "de1bf244-65ff-4b23-a192-a83f4c11d688",
   "metadata": {},
   "outputs": [],
   "source": []
  },
  {
   "cell_type": "code",
   "execution_count": null,
   "id": "ca18924d-4798-45ce-851d-6efe504c48fe",
   "metadata": {},
   "outputs": [],
   "source": []
  },
  {
   "cell_type": "code",
   "execution_count": null,
   "id": "6c652227-05a2-4918-b006-c8aba34b4200",
   "metadata": {},
   "outputs": [],
   "source": []
  },
  {
   "cell_type": "code",
   "execution_count": null,
   "id": "960462e2-5aad-4688-8d3a-b36274bf4585",
   "metadata": {},
   "outputs": [],
   "source": []
  },
  {
   "cell_type": "code",
   "execution_count": 1,
   "id": "c0e2c3d7-9fd8-4489-bb9d-9055325743a8",
   "metadata": {},
   "outputs": [],
   "source": [
    "import torch"
   ]
  },
  {
   "cell_type": "code",
   "execution_count": 2,
   "id": "3c411b5f-1d32-4e67-b081-eb43a43a27a0",
   "metadata": {},
   "outputs": [
    {
     "name": "stderr",
     "output_type": "stream",
     "text": [
      "/tmp/ipykernel_1452603/3078881772.py:2: FutureWarning: You are using `torch.load` with `weights_only=False` (the current default value), which uses the default pickle module implicitly. It is possible to construct malicious pickle data which will execute arbitrary code during unpickling (See https://github.com/pytorch/pytorch/blob/main/SECURITY.md#untrusted-models for more details). In a future release, the default value for `weights_only` will be flipped to `True`. This limits the functions that could be executed during unpickling. Arbitrary objects will no longer be allowed to be loaded via this mode unless they are explicitly allowlisted by the user via `torch.serialization.add_safe_globals`. We recommend you start setting `weights_only=True` for any use case where you don't have full control of the loaded file. Please open an issue on GitHub for any issues related to this experimental feature.\n",
      "  loaded_model = torch.load('checkpoints/crop23_vs_all.pth')\n"
     ]
    },
    {
     "data": {
      "text/plain": [
       "FeatureExtractor(\n",
       "  (cnn): ShallowCNN(\n",
       "    (block_in): Sequential(\n",
       "      (0): Conv2d(18, 18, kernel_size=(9, 9), stride=(1, 1), padding=(4, 4))\n",
       "      (1): ReLU()\n",
       "    )\n",
       "    (blocks_internal): ModuleList(\n",
       "      (0-4): 5 x Sequential(\n",
       "        (0): Conv2d(18, 18, kernel_size=(9, 9), stride=(1, 1), padding=(4, 4))\n",
       "        (1): ReLU()\n",
       "        (2): Conv2d(18, 18, kernel_size=(9, 9), stride=(1, 1), padding=(4, 4))\n",
       "        (3): ReLU()\n",
       "      )\n",
       "    )\n",
       "    (block_out): Sequential(\n",
       "      (0): Conv2d(18, 18, kernel_size=(9, 9), stride=(1, 1), padding=(4, 4))\n",
       "      (1): ReLU()\n",
       "    )\n",
       "  )\n",
       ")"
      ]
     },
     "execution_count": 2,
     "metadata": {},
     "output_type": "execute_result"
    }
   ],
   "source": [
    "# Load the model\n",
    "loaded_model = torch.load('checkpoints/crop23_vs_all.pth')\n",
    "loaded_model.eval()  # Set to evaluation mode if you're using it for inference"
   ]
  },
  {
   "cell_type": "code",
   "execution_count": null,
   "id": "00a13d5e-a438-40be-b0e9-467d51243a08",
   "metadata": {},
   "outputs": [],
   "source": []
  },
  {
   "cell_type": "code",
   "execution_count": 2,
   "id": "968803bd-1e4b-4c58-b21b-c910428bd05b",
   "metadata": {},
   "outputs": [
    {
     "name": "stdout",
     "output_type": "stream",
     "text": [
      "F1 Score: 0.0\n"
     ]
    },
    {
     "name": "stderr",
     "output_type": "stream",
     "text": [
      "/home/parham/anaconda3/envs/internship/lib/python3.9/site-packages/sklearn/metrics/_classification.py:1565: UndefinedMetricWarning: F-score is ill-defined and being set to 0.0 due to no true nor predicted samples. Use `zero_division` parameter to control this behavior.\n",
      "  _warn_prf(average, modifier, f\"{metric.capitalize()} is\", len(result))\n"
     ]
    }
   ],
   "source": [
    "from sklearn.metrics import f1_score\n",
    "\n",
    "# Ground truth (true labels)\n",
    "y_true = [0, 0, 0, 0, 0, 0, 0]\n",
    "\n",
    "# Predicted labels\n",
    "y_pred = [0, 0, 0, 0, 0, 0, 0]\n",
    "\n",
    "# Compute F1-score\n",
    "f1 = f1_score(y_true, y_pred, labels=[0,1], zero_division=)\n",
    "\n",
    "print(\"F1 Score:\", f1)\n"
   ]
  },
  {
   "cell_type": "code",
   "execution_count": 4,
   "id": "c21bab16-1021-4a43-a35d-361764d71399",
   "metadata": {},
   "outputs": [
    {
     "data": {
      "text/plain": [
       "array([0., 1., 2., 3., 4.])"
      ]
     },
     "execution_count": 4,
     "metadata": {},
     "output_type": "execute_result"
    }
   ],
   "source": [
    "import numpy as np\n",
    "\n",
    "np.unique(np.load('./binary_classifiers_outputs_deprecated/val_labels.npy'))"
   ]
  },
  {
   "cell_type": "code",
   "execution_count": null,
   "id": "41171092-3ea4-4936-9267-1d46cebe67f9",
   "metadata": {},
   "outputs": [],
   "source": []
  }
 ],
 "metadata": {
  "kernelspec": {
   "display_name": "Python 3 (ipykernel)",
   "language": "python",
   "name": "python3"
  },
  "language_info": {
   "codemirror_mode": {
    "name": "ipython",
    "version": 3
   },
   "file_extension": ".py",
   "mimetype": "text/x-python",
   "name": "python",
   "nbconvert_exporter": "python",
   "pygments_lexer": "ipython3",
   "version": "3.9.20"
  }
 },
 "nbformat": 4,
 "nbformat_minor": 5
}
