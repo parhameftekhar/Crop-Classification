{
 "cells": [
  {
   "cell_type": "code",
   "execution_count": 122,
   "id": "22e03438-2ad7-41f4-895e-26dd4b66867f",
   "metadata": {},
   "outputs": [
    {
     "name": "stdout",
     "output_type": "stream",
     "text": [
      "Computed V^T L V:\n",
      "[[ 9.98029426e-01  2.73997867e-02 -2.38697950e-15 -2.08860707e-14]\n",
      " [ 2.73997867e-02  1.00636629e+00  3.06296261e-02 -4.12170298e-15]\n",
      " [-2.41473508e-15  3.06296261e-02  1.00105024e+00  1.95566336e-02]\n",
      " [-2.08236206e-14 -4.17721413e-15  1.95566336e-02  1.00508636e+00]]\n",
      "\n",
      "Tridiagonal matrix T:\n",
      "[[0.99802943 0.02739979 0.         0.        ]\n",
      " [0.02739979 1.00636629 0.03062963 0.        ]\n",
      " [0.         0.03062963 1.00105024 0.01955663]\n",
      " [0.         0.         0.01955663 1.00508636]]\n",
      "\n",
      "Maximum difference between V^T L V and T: 2.114627917215728e-14\n",
      "\n",
      "Does V^T L V = T hold within tolerance? True\n"
     ]
    }
   ],
   "source": [
    "import numpy as np\n",
    "\n",
    "def lanczos_algorithm(L, x, m):\n",
    "    \"\"\"\n",
    "    Implements a simple Lanczos algorithm for a symmetric matrix L.\n",
    "    \n",
    "    Parameters:\n",
    "    L (numpy array): Symmetric matrix (n x n)\n",
    "    x (numpy array): Initial vector (n x 1)\n",
    "    m (int): Number of Lanczos iterations (dimension of Krylov subspace)\n",
    "    \n",
    "    Returns:\n",
    "    V (numpy array): Orthonormal basis vectors (n x m)\n",
    "    alpha (numpy array): Diagonal elements (m x 1)\n",
    "    beta (numpy array): Subdiagonal elements (m-1 x 1)\n",
    "    \"\"\"\n",
    "    n = L.shape[0]  # Dimension of the matrix\n",
    "    V = np.zeros((n, m))  # To store basis vectors\n",
    "    alpha = np.zeros(m)  # Diagonal elements\n",
    "    beta = np.zeros(m-1)  # Subdiagonal elements\n",
    "    \n",
    "    # Step 1: Initialize v_1 = x / ||x||\n",
    "    beta_1 = np.linalg.norm(x)\n",
    "    if beta_1 == 0:\n",
    "        raise ValueError(\"Initial vector x cannot be zero.\")\n",
    "    v_1 = x / beta_1\n",
    "    V[:, 0] = v_1  # Store the first basis vector\n",
    "    \n",
    "    # Step 2: Initialize w_0 = 0 (for j=1, v_0 is considered 0)\n",
    "    w = np.zeros(n)\n",
    "    \n",
    "    # Step 3: Lanczos iteration for j = 1 to m-1\n",
    "    for j in range(m):\n",
    "        # Compute w'_j = L v_j\n",
    "        w_prime = L @ V[:, j]\n",
    "        \n",
    "        # Compute alpha_j = (w'_j)^T v_j\n",
    "        alpha[j] = np.dot(w_prime, V[:, j])\n",
    "        \n",
    "        # Compute w_j = w'_j - alpha_j v_j - beta_j v_{j-1}\n",
    "        w = w_prime - alpha[j] * V[:, j]\n",
    "        if j > 0:\n",
    "            w -= beta[j-1] * V[:, j-1]\n",
    "        \n",
    "        # Compute beta_{j+1} = ||w_j||\n",
    "        if j < m-1:  # We only need beta up to m-1\n",
    "            beta[j] = np.linalg.norm(w)\n",
    "            if beta[j] == 0:\n",
    "                print(f\"Breakdown at iteration {j+1}: w_{j+1} is zero.\")\n",
    "                break\n",
    "            # Compute v_{j+1} = w_j / beta_{j+1}\n",
    "            V[:, j+1] = w / beta[j]\n",
    "    \n",
    "    return V, alpha, beta\n",
    "\n",
    "def construct_tridiagonal_matrix(alpha, beta):\n",
    "    \"\"\"\n",
    "    Heter: Construct the tridiagonal matrix \\( T_m \\) using the alpha and beta coefficients.\n",
    "    \n",
    "    Parameters:\n",
    "    alpha (numpy array): Diagonal elements (m x 1)\n",
    "    beta (numpy array): Subdiagonal elements (m-1 x 1)\n",
    "    \n",
    "    Returns:\n",
    "    T (numpy array): Tridiagonal matrix (m x m)\n",
    "    \"\"\"\n",
    "    m = len(alpha)\n",
    "    T = np.zeros((m, m))\n",
    "    \n",
    "    # Fill diagonal with alpha\n",
    "    for i in range(m):\n",
    "        T[i, i] = alpha[i]\n",
    "    \n",
    "    # Fill subdiagonal and superdiagonal with beta\n",
    "    for i in range(m-1):\n",
    "        T[i, i+1] = beta[i]  # Superdiagonal\n",
    "        T[i+1, i] = beta[i]  # Subdiagonal (symmetric)\n",
    "    \n",
    "    return T\n",
    "\n",
    "def check_lanczos_equation(L, V, alpha, beta, tol=1e-10):\n",
    "    \"\"\"\n",
    "    Verifies if V^T L V = T holds within a tolerance.\n",
    "    \n",
    "    Parameters:\n",
    "    L (numpy array): Original symmetric matrix (n x n)\n",
    "    V (numpy array): Orthonormal basis vectors (n x m)\n",
    "    alpha (numpy array): Diagonal elements (m x 1)\n",
    "    beta (numpy array): Subdiagonal elements (m-1 x 1)\n",
    "    tol (float): Tolerance for checking equality\n",
    "    \n",
    "    Returns:\n",
    "    bool: True if the equation holds within tolerance, False otherwise\n",
    "    \"\"\"\n",
    "    # Construct the tridiagonal matrix T\n",
    "    T = construct_tridiagonal_matrix(alpha, beta)\n",
    "    \n",
    "    # Compute V^T L V\n",
    "    VTLV = V.T @ L @ V\n",
    "    \n",
    "    # Check if V^T L V is approximately equal to T\n",
    "    difference = np.abs(VTLV - T)\n",
    "    max_diff = np.max(difference)\n",
    "    \n",
    "    print(\"Computed V^T L V:\")\n",
    "    print(VTLV)\n",
    "    print(\"\\nTridiagonal matrix T:\")\n",
    "    print(T)\n",
    "    print(\"\\nMaximum difference between V^T L V and T:\", max_diff)\n",
    "    \n",
    "    return max_diff < tol\n",
    "\n",
    "# Create a small symmetric matrix L (for testing)\n",
    "# n = 4\n",
    "# L = np.array([\n",
    "#     [4, 1, 0, 0],\n",
    "#     [1, 3, 1, 0],\n",
    "#     [0, 1, 2, 1],\n",
    "#     [0, 0, 1, 1]\n",
    "# ])\n",
    "\n",
    "# # Larger example usage\n",
    "# n = 20\n",
    "# # Create a random symmetric positive definite matrix L\n",
    "# # np.random.seed(43)  # For reproducibility\n",
    "# A = np.random.rand(n, n)\n",
    "# L = (A + A.T) / 2   # Ensure positive definiteness\n",
    "\n",
    "np.random.seed(43)\n",
    "n = 20  # Matrix size\n",
    "epsilon = 0.01  # Perturbation strength\n",
    "\n",
    "# Diagonal matrix\n",
    "D = np.eye(n)  # Identity (eigenvalues = 1)\n",
    "\n",
    "# Symmetric perturbation\n",
    "E = np.random.randn(n, n) * epsilon\n",
    "E = (E + E.T) / 2  # Ensure symmetry\n",
    "\n",
    "# Construct matrix\n",
    "L = D + E\n",
    "\n",
    "\n",
    "# Initial vector x\n",
    "x = np.ones(n)\n",
    "\n",
    "# Number of iterations\n",
    "m = 4\n",
    "\n",
    "# Run Lanczos algorithm\n",
    "V, alpha, beta = lanczos_algorithm(L, x, m)\n",
    "\n",
    "T = construct_tridiagonal_matrix(alpha, beta)\n",
    "# Check if V^T L V = T holds\n",
    "is_valid = check_lanczos_equation(L, V, alpha, beta)\n",
    "\n",
    "print(\"\\nDoes V^T L V = T hold within tolerance?\", is_valid)"
   ]
  },
  {
   "cell_type": "code",
   "execution_count": 123,
   "id": "a3c4d667-a908-4882-897b-da69eb3e6486",
   "metadata": {},
   "outputs": [],
   "source": [
    "eigenvalues_L, _ = np.linalg.eig(L)\n",
    "eigenvalues_T, _ = np.linalg.eig(T)"
   ]
  },
  {
   "cell_type": "code",
   "execution_count": 124,
   "id": "f6a0ef91-5a8d-4c24-b6ed-ac5c2f159489",
   "metadata": {},
   "outputs": [
    {
     "data": {
      "text/plain": [
       "array([0.94618255, 0.95666692, 0.96099278, 1.05806662, 0.97065047,\n",
       "       0.97724224, 1.04999927, 0.98307938, 1.04595615, 1.03914346,\n",
       "       1.04020204, 1.02952795, 0.99107215, 1.02434796, 1.02002779,\n",
       "       1.013177  , 0.99689368, 1.00779733, 1.00420663, 0.99988022])"
      ]
     },
     "execution_count": 124,
     "metadata": {},
     "output_type": "execute_result"
    }
   ],
   "source": [
    "eigenvalues_L"
   ]
  },
  {
   "cell_type": "code",
   "execution_count": 125,
   "id": "de11168d-efb3-4017-aba4-af7ba29495f3",
   "metadata": {},
   "outputs": [
    {
     "data": {
      "text/plain": [
       "array([0.95913526, 1.04708066, 0.98954226, 1.01477415])"
      ]
     },
     "execution_count": 125,
     "metadata": {},
     "output_type": "execute_result"
    }
   ],
   "source": [
    "eigenvalues_T"
   ]
  },
  {
   "cell_type": "code",
   "execution_count": 14,
   "id": "0e2d71ad-419a-44ac-8ff5-f7156633e27c",
   "metadata": {},
   "outputs": [
    {
     "name": "stdout",
     "output_type": "stream",
     "text": [
      "Rank of V: 5, expected: 4\n",
      "\n",
      "V_left_inv @ V (should be identity):\n",
      "[[ 1.00000000e+00  3.45010258e-12 -2.30969128e-11  1.45396758e-11\n",
      "   8.95109408e-12]\n",
      " [-1.14618037e-12  1.00000000e+00 -8.04482939e-12  5.14458971e-12\n",
      "   3.44410808e-12]\n",
      " [-4.10275946e-12  1.34025082e-11  1.00000000e+00  5.63707960e-12\n",
      "  -1.18362888e-12]\n",
      " [-1.74038995e-11  7.62137776e-12 -1.14186304e-11  1.00000000e+00\n",
      "  -8.01043467e-13]\n",
      " [-2.82173563e-12  1.21991463e-12  6.78058916e-13  2.04343524e-12\n",
      "   1.00000000e+00]]\n",
      "Maximum difference from identity: 2.4125368369709577e-11\n",
      "\n",
      "Computed V_left_inv L V:\n",
      "[[ 9.88880771e+00  1.40729170e+00 -1.66909193e-10  9.85266548e-11\n",
      "  -1.37277239e+01]\n",
      " [ 9.38194464e-01  7.08931486e+00  4.26216162e-01  3.53438144e-11\n",
      "  -5.28510933e+00]\n",
      " [-2.81553100e-11  7.99155304e-01  8.14294546e+00  2.03315060e+00\n",
      "  -1.20661076e+01]\n",
      " [-1.64977049e-10  2.02769812e-11  1.35543373e+00  9.41135230e+00\n",
      "  -1.29063793e+01]\n",
      " [-2.67720530e-11  5.23387240e-12  8.80543523e-12  9.65965877e-01\n",
      "   3.57212628e+00]]\n",
      "\n",
      "Tridiagonal matrix T (asymmetric with scaled diagonal):\n",
      "[[9.88880771 1.4072917  0.         0.         0.        ]\n",
      " [0.93819446 7.08931486 0.42621616 0.         0.        ]\n",
      " [0.         0.7991553  8.14294546 2.0331506  0.        ]\n",
      " [0.         0.         1.35543373 9.4113523  0.        ]\n",
      " [0.         0.         0.         0.96596588 8.01884404]]\n",
      "\n",
      "Maximum difference between V_left_inv L V and T: 2.0310508830334584e-10\n",
      "\n",
      "Does T = V_left_inv L V hold within tolerance? True\n"
     ]
    }
   ],
   "source": [
    "import numpy as np\n",
    "\n",
    "def unrolled_lanczos_algorithm(L, x, m, gamma=None):\n",
    "    \"\"\"\n",
    "    Implements an unrolled Lanczos algorithm with learnable gamma parameters.\n",
    "    The beta_j v_{j-1} term is subtracted after scaling by gamma_j.\n",
    "    \n",
    "    Parameters:\n",
    "    L (numpy array): Symmetric matrix (n x n)\n",
    "    x (numpy array): Initial vector (n x 1)\n",
    "    m (int): Number of Lanczos iterations (dimension of Krylov subspace)\n",
    "    gamma (numpy array): Learnable parameters (m-1 x 1), defaults to ones if None\n",
    "    \n",
    "    Returns:\n",
    "    V (numpy array): Basis vectors (n x m)\n",
    "    alpha (numpy array): Diagonal elements (m x 1)\n",
    "    beta (numpy array): Subdiagonal elements (m-1 x 1)\n",
    "    \"\"\"\n",
    "    n = L.shape[0]\n",
    "    V = np.zeros((n, m))\n",
    "    alpha = np.zeros(m)\n",
    "    beta = np.zeros(m-1)\n",
    "    \n",
    "    if gamma is None:\n",
    "        gamma = np.ones(m)\n",
    "    else:\n",
    "        assert len(gamma) == m-1, \"gamma must have length m-1\"\n",
    "\n",
    "        \n",
    "    # Initialize v_1 = x / ||x||\n",
    "    beta_1 = np.linalg.norm(x)\n",
    "    if beta_1 == 0:\n",
    "        raise ValueError(\"Initial vector x cannot be zero.\")\n",
    "    v_1 = x / beta_1\n",
    "    V[:, 0] = v_1\n",
    "    \n",
    "    w = np.zeros(n)\n",
    "    \n",
    "    for j in range(m):\n",
    "        w_prime = L @ V[:, j]\n",
    "        alpha[j] = np.dot(w_prime, V[:, j])\n",
    "        w = w_prime - alpha[j] * V[:, j]\n",
    "        if j < m-1:\n",
    "            w = gamma[j] * w\n",
    "            if j > 0:\n",
    "                w -= beta[j-1] * V[:, j-1]\n",
    "            beta[j] = np.linalg.norm(w)\n",
    "            if beta[j] == 0:\n",
    "                print(f\"Breakdown at iteration {j+1}: w_{j+1} is zero.\")\n",
    "                break\n",
    "            V[:, j+1] = w / beta[j]\n",
    "    \n",
    "    return V, alpha, beta, gamma\n",
    "\n",
    "def construct_tridiagonal_matrix(alpha, beta, gamma):\n",
    "    \"\"\"\n",
    "    Construct the tridiagonal matrix T with asymmetric off-diagonals and scaled diagonal.\n",
    "    Diagonal: alpha_i / gamma_i\n",
    "    Upper diagonal: beta_i / gamma_i\n",
    "    Lower diagonal: beta_i / gamma_{i-1}\n",
    "    \"\"\"\n",
    "    m = len(alpha)\n",
    "    T = np.zeros((m, m))\n",
    "    \n",
    "    # Fill diagonal with alpha_i / gamma_i\n",
    "    for i in range(m):  # Use gamma[i] for diagonal elements up to m-1\n",
    "        T[i, i] = alpha[i]\n",
    "    \n",
    "    # Fill off-diagonals with beta_i / gamma_i and beta_i / gamma_{i-1}\n",
    "    for i in range(m-1):\n",
    "        if i < m-2:\n",
    "            T[i, i+1] = beta[i] / gamma[i+1]  # Upper diagonal\n",
    "        \n",
    "        T[i+1, i] = beta[i] / gamma[i]  # Lower diagonal\n",
    "    \n",
    "    return T[:m, :m]\n",
    "\n",
    "def check_tridiagonalization(L, V, alpha, beta, gamma, tol=1e-9):\n",
    "    \"\"\"\n",
    "    Checks if T = V_left_inv L V holds, where V_left_inv is a left inverse of V.\n",
    "    \n",
    "    Parameters:\n",
    "    L (numpy array): Original symmetric matrix (n x n)\n",
    "    V (numpy array): Basis vectors (n x m)\n",
    "    alpha (numpy array): Diagonal elements (m x 1)\n",
    "    beta (numpy array): Subdiagonal elements (m-1 x 1)\n",
    "    gamma (numpy array): Learnable parameters (m-1 x 1)\n",
    "    tol (float): Tolerance for checking equality\n",
    "    \n",
    "    Returns:\n",
    "    bool: True if the equation holds within tolerance, False otherwise\n",
    "    \"\"\"\n",
    "    m, n = len(gamma), V.shape[0]\n",
    "    \n",
    "    T = construct_tridiagonal_matrix(alpha, beta, gamma)\n",
    "    \n",
    "    # Check rank of V to ensure full column rank\n",
    "    rank = np.linalg.matrix_rank(V)\n",
    "    print(f\"Rank of V: {rank}, expected: {m}\")\n",
    "    if rank < m:\n",
    "        print(\"Warning: V is rank-deficient, left inverse may not exist.\")\n",
    "        return False\n",
    "    \n",
    "    # Compute the left inverse V_left_inv = (V^T V)^{-1} V^T\n",
    "    V_T_V = V.T @ V\n",
    "    V_left_inv = np.linalg.inv(V_T_V) @ V.T\n",
    "    \n",
    "    # Verify V_left_inv V = I_m\n",
    "    identity_check = V_left_inv @ V\n",
    "    print(\"\\nV_left_inv @ V (should be identity):\")\n",
    "    print(identity_check)\n",
    "    max_identity_diff = np.max(np.abs(identity_check - np.eye(m+1)))\n",
    "    print(\"Maximum difference from identity:\", max_identity_diff)\n",
    "    \n",
    "    # Compute V_left_inv L V\n",
    "    VLV = V_left_inv @ L @ V\n",
    "    difference = np.abs(VLV[:-1, :-1] - T[:-1, :-1])\n",
    "    max_diff = np.max(difference)\n",
    "    \n",
    "    print(\"\\nComputed V_left_inv L V:\")\n",
    "    print(VLV)\n",
    "    print(\"\\nTridiagonal matrix T (asymmetric with scaled diagonal):\")\n",
    "    print(T)\n",
    "    print(\"\\nMaximum difference between V_left_inv L V and T:\", max_diff)\n",
    "    \n",
    "    return max_diff < tol\n",
    "\n",
    "# # Example usage\n",
    "# n = 4\n",
    "# L = np.array([\n",
    "#     [4, 1, 0, 0],\n",
    "#     [1, 3, 1, 0],\n",
    "#     [0, 1, 2, 1],\n",
    "#     [0, 0, 1, 1]\n",
    "# ])\n",
    "# x = np.ones(n)\n",
    "# m = 3\n",
    "# gamma = np.array([1.5, 0.5])  # Non-default gamma values\n",
    "\n",
    "# Larger example usage\n",
    "n = 7\n",
    "# Create a random symmetric positive definite matrix L\n",
    "np.random.seed(42)  # For reproducibility\n",
    "A = np.random.rand(n, n)\n",
    "L = (A + A.T) / 2 + n * np.eye(n)  # Ensure positive definiteness\n",
    "\n",
    "# Initial random vector x\n",
    "x = np.random.rand(n)\n",
    "\n",
    "# Number of iterations\n",
    "m = 4\n",
    "\n",
    "# Define gamma values (m-1 = 4 values)\n",
    "gamma = np.array([1.2, 0.8, 1.5])  # Varied gamma values to test\n",
    "\n",
    "gamma = np.append(gamma, 1.0)\n",
    "\n",
    "V, alpha, beta, gamma = unrolled_lanczos_algorithm(L, x, m+1, gamma)\n",
    "# print(V.shape)\n",
    "# print(alpha.shape)\n",
    "# print(beta.shape)\n",
    "# print(gamma.shape)\n",
    "\n",
    "T = construct_tridiagonal_matrix(alpha, beta, gamma)\n",
    "\n",
    "# Check tridiagonalization with left inverse\n",
    "is_valid = check_tridiagonalization(L, V, alpha, beta, gamma)\n",
    "\n",
    "print(\"\\nDoes T = V_left_inv L V hold within tolerance?\", is_valid)"
   ]
  },
  {
   "cell_type": "code",
   "execution_count": 18,
   "id": "d6413117-2c65-4095-a9be-685a4e017151",
   "metadata": {},
   "outputs": [],
   "source": [
    "eigenvalues_L, _ = np.linalg.eig(L)\n",
    "eigenvalues_T, _ = np.linalg.eig(T)"
   ]
  },
  {
   "cell_type": "code",
   "execution_count": 19,
   "id": "341a31a3-a7d6-44dd-9e04-fb21d3c06ab1",
   "metadata": {},
   "outputs": [
    {
     "data": {
      "text/plain": [
       "array([10.18664835,  7.70412511,  6.33408316,  6.30303534,  6.74752475,\n",
       "        7.17940683,  7.01494392])"
      ]
     },
     "execution_count": 19,
     "metadata": {},
     "output_type": "execute_result"
    }
   ],
   "source": [
    "eigenvalues_L"
   ]
  },
  {
   "cell_type": "code",
   "execution_count": 20,
   "id": "7e3e76f3-cf02-450d-9dd0-7e62ac621b6a",
   "metadata": {},
   "outputs": [
    {
     "data": {
      "text/plain": [
       "array([ 8.01884404,  6.34072336,  7.30430731, 10.26724546, 10.6201442 ])"
      ]
     },
     "execution_count": 20,
     "metadata": {},
     "output_type": "execute_result"
    }
   ],
   "source": [
    "eigenvalues_T"
   ]
  },
  {
   "cell_type": "code",
   "execution_count": 14,
   "id": "aa95c04e-5555-497b-95cd-96525f935e16",
   "metadata": {},
   "outputs": [
    {
     "data": {
      "text/plain": [
       "array([[ 0.69565804, -0.33292016, -0.62177506,  0.02707787,  0.58752291],\n",
       "       [ 0.17690897,  0.72917287, -0.50109876, -0.247693  ,  0.42392031],\n",
       "       [ 0.45560656,  0.2594094 ,  0.00362792, -0.68907818, -0.06610968],\n",
       "       [ 0.52487338, -0.07156013, -0.56033477, -0.07816002,  0.67124463],\n",
       "       [ 0.0411546 ,  0.5339073 ,  0.21978989, -0.67600092, -0.14201605]])"
      ]
     },
     "execution_count": 14,
     "metadata": {},
     "output_type": "execute_result"
    }
   ],
   "source": [
    "V"
   ]
  },
  {
   "cell_type": "code",
   "execution_count": 17,
   "id": "8badc376-c306-4265-bac9-e7d3fa10df2a",
   "metadata": {},
   "outputs": [
    {
     "ename": "NameError",
     "evalue": "name 'T' is not defined",
     "output_type": "error",
     "traceback": [
      "\u001b[0;31m---------------------------------------------------------------------------\u001b[0m",
      "\u001b[0;31mNameError\u001b[0m                                 Traceback (most recent call last)",
      "Cell \u001b[0;32mIn[17], line 6\u001b[0m\n\u001b[1;32m      4\u001b[0m \u001b[38;5;66;03m# Compute V_left_inv L V\u001b[39;00m\n\u001b[1;32m      5\u001b[0m VLV \u001b[38;5;241m=\u001b[39m V_left_inv \u001b[38;5;241m@\u001b[39m L \u001b[38;5;241m@\u001b[39m V\n\u001b[0;32m----> 6\u001b[0m difference \u001b[38;5;241m=\u001b[39m np\u001b[38;5;241m.\u001b[39mabs(VLV \u001b[38;5;241m-\u001b[39m \u001b[43mT\u001b[49m)\n\u001b[1;32m      7\u001b[0m max_diff \u001b[38;5;241m=\u001b[39m np\u001b[38;5;241m.\u001b[39mmax(difference)\n",
      "\u001b[0;31mNameError\u001b[0m: name 'T' is not defined"
     ]
    }
   ],
   "source": [
    "    V_T_V = V.T @ V\n",
    "    V_left_inv = np.linalg.inv(V_T_V) @ V.T\n",
    "    \n",
    "    # Compute V_left_inv L V\n",
    "    VLV = V_left_inv @ L @ V\n",
    "    difference = np.abs(VLV - T)\n",
    "    max_diff = np.max(difference)\n"
   ]
  },
  {
   "cell_type": "code",
   "execution_count": 14,
   "id": "3459889c-8811-4081-a463-f4e26302550a",
   "metadata": {},
   "outputs": [
    {
     "data": {
      "text/plain": [
       "array([[ 1.40566038e+00,  7.26415094e-01, -1.19811321e+00,\n",
       "         1.06603774e+00],\n",
       "       [ 4.08248290e-01,  4.08248290e-01, -3.53096865e-17,\n",
       "        -8.16496581e-01],\n",
       "       [ 1.01068224e+00,  2.52670559e-01, -1.89502919e+00,\n",
       "         6.31676397e-01]])"
      ]
     },
     "execution_count": 14,
     "metadata": {},
     "output_type": "execute_result"
    }
   ],
   "source": [
    "V_left_inv = np.linalg.pinv(V)\n",
    "V_left_inv"
   ]
  },
  {
   "cell_type": "code",
   "execution_count": 17,
   "id": "d97ede82-4ec1-4537-814f-9fbe3e9a9221",
   "metadata": {},
   "outputs": [],
   "source": [
    "V_T_V = V.T @ V\n",
    "V_left_inv = np.linalg.inv(V_T_V) @ V.T"
   ]
  },
  {
   "cell_type": "code",
   "execution_count": 18,
   "id": "67451ee0-fd3c-403a-9dfc-cf5101b74d2d",
   "metadata": {},
   "outputs": [
    {
     "data": {
      "text/plain": [
       "array([[ 1.00000000e+00,  2.22044605e-16,  7.77156117e-16],\n",
       "       [ 2.77555756e-17,  1.00000000e+00, -1.38777878e-17],\n",
       "       [-4.44089210e-16, -5.55111512e-17,  1.00000000e+00]])"
      ]
     },
     "execution_count": 18,
     "metadata": {},
     "output_type": "execute_result"
    }
   ],
   "source": [
    "V_left_inv @ V"
   ]
  },
  {
   "cell_type": "code",
   "execution_count": null,
   "id": "6d1af58b-c8a4-4822-a8ed-73e4fa31dd0c",
   "metadata": {},
   "outputs": [],
   "source": []
  }
 ],
 "metadata": {
  "kernelspec": {
   "display_name": "Python 3 (ipykernel)",
   "language": "python",
   "name": "python3"
  },
  "language_info": {
   "codemirror_mode": {
    "name": "ipython",
    "version": 3
   },
   "file_extension": ".py",
   "mimetype": "text/x-python",
   "name": "python",
   "nbconvert_exporter": "python",
   "pygments_lexer": "ipython3",
   "version": "3.9.20"
  }
 },
 "nbformat": 4,
 "nbformat_minor": 5
}
